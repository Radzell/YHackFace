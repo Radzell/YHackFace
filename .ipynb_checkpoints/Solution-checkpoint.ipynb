{
 "metadata": {
  "name": ""
 },
 "nbformat": 3,
 "nbformat_minor": 0,
 "worksheets": [
  {
   "cells": [
    {
     "cell_type": "code",
     "collapsed": false,
     "input": [
      "import json\n",
      "import urllib2\n",
      "import httplib2\n",
      "from urlparse import urlparse, parse_qs\n",
      "from pprint import pprint"
     ],
     "language": "python",
     "metadata": {},
     "outputs": [],
     "prompt_number": 17
    },
    {
     "cell_type": "code",
     "collapsed": false,
     "input": [
      "id=None\n",
      "status = 200\n",
      "while status==200:\n",
      "    if(id):\n",
      "        resp, content = httplib2.Http().request('http://letsrevolutionizetesting.com/challenge.json'+'?id='+id)\n",
      "    else:\n",
      "        resp, content = httplib2.Http().request('http://letsrevolutionizetesting.com/challenge.json')\n",
      "    status = resp.status\n",
      "    data = json.loads(content)\n",
      "    if(not data.has_key('follow')):\n",
      "        print data['message']\n",
      "        break\n",
      "    id = parse_qs(urlparse(data['follow']).query, keep_blank_values=True)['id'][0]\n"
     ],
     "language": "python",
     "metadata": {},
     "outputs": [
      {
       "output_type": "stream",
       "stream": "stdout",
       "text": [
        "Congratulations! You've reached the end! You have passed our simple little test and we would love to hear from you. Please email us your resume at letsrevolutionizetesting+challenge-solved@gmail.com with a link to your Github account, a gist with the code you used to solve this challenge and any other information you deem relevant.\n"
       ]
      }
     ],
     "prompt_number": 62
    },
    {
     "cell_type": "code",
     "collapsed": false,
     "input": [],
     "language": "python",
     "metadata": {},
     "outputs": [],
     "prompt_number": 49
    },
    {
     "cell_type": "code",
     "collapsed": false,
     "input": [],
     "language": "python",
     "metadata": {},
     "outputs": []
    }
   ],
   "metadata": {}
  }
 ]
}
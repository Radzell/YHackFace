{
 "metadata": {
  "name": ""
 },
 "nbformat": 3,
 "nbformat_minor": 0,
 "worksheets": [
  {
   "cells": [
    {
     "cell_type": "code",
     "collapsed": false,
     "input": [
      "import os\n",
      "import sys\n",
      "import cv2\n",
      "import numpy as np\n",
      "def read_images(path, sz=None):\n",
      "    \"\"\"Reads the images in a given folder, resizes images on the fly if size is given.\n",
      "\n",
      "    Args:\n",
      "        path: Path to a folder with subfolders representing the subjects (persons).\n",
      "        sz: A tuple with the size Resizes \n",
      "\n",
      "    Returns:\n",
      "        A list [X,y]\n",
      "\n",
      "            X: The images, which is a Python list of numpy arrays.\n",
      "            y: The corresponding labels (the unique number of the subject, person) in a Python list.\n",
      "    \"\"\"\n",
      "    c = 0\n",
      "    X,y = [], []\n",
      "    for subject_path, dirnames, filenames in os.walk(path):\n",
      "        #print subject_path\n",
      "        for filename in os.listdir(subject_path):\n",
      "            if  not os.path.isfile(os.path.join(subject_path, filename)):\n",
      "                continue\n",
      "            try:\n",
      "                im = cv2.imread(os.path.join(subject_path, filename), cv2.IMREAD_GRAYSCALE)\n",
      "                # resize to given size (if given)\n",
      "                if (sz is not None):\n",
      "                    im = cv2.resize(im, sz)\n",
      "                \n",
      "                X.append(np.asarray(im, dtype=np.uint8))\n",
      "                y.append(int(filename[0]))\n",
      "            except IOError, (errno, strerror):\n",
      "                print \"I/O error({0}): {1}\".format(errno, strerror)\n",
      "            except:\n",
      "                print \"Unexpected error:\", sys.exc_info()[0]\n",
      "                raise\n",
      "            c = (c+1)\n",
      "    return [X,y]"
     ],
     "language": "python",
     "metadata": {},
     "outputs": [],
     "prompt_number": 22
    },
    {
     "cell_type": "code",
     "collapsed": false,
     "input": [
      "def train_model():\n",
      "    [X,y] = read_images(os.getcwd()+'/training/', sz=(120,90))\n",
      "    model = cv2.createFisherFaceRecognizer()\n",
      "    model.train(np.asarray(X), np.asarray(y))\n",
      "    return model"
     ],
     "language": "python",
     "metadata": {},
     "outputs": [],
     "prompt_number": 23
    },
    {
     "cell_type": "code",
     "collapsed": false,
     "input": [
      "import numpy as np\n",
      "import cv2\n",
      "import time\n",
      "import draw_sprites\n",
      "from collections import deque\n",
      "from PIL import Image, ImageTk\n",
      "import Tkinter as tk\n",
      "\n",
      "global frame\n",
      "global model\n",
      "def detect(img, cascade):\n",
      "    rects = cascade.detectMultiScale(img, scaleFactor=1.3, minNeighbors=2, minSize=(50, 50), flags = cv2.CASCADE_SCALE_IMAGE)\n",
      "    if len(rects) == 0:\n",
      "        return []\n",
      "    rects[:,2:] += rects[:,:2]\n",
      "    return rects\n",
      "\n",
      "def draw_rects(img, rects, color):\n",
      "    pil_im = Image.fromarray(np.uint8(cm.gist_earth(img)*255))\n",
      "    faces=[]\n",
      "    for x1, y1, x2, y2 in rects:\n",
      "        faces.append([[(x1+x2)/2,(y1+y2)/2]])\n",
      "    pil_img=draw_sprites.draw_sprites(pi,faces)\n",
      "    img=image2array(pil_img)\n",
      "\n",
      "\n",
      "def quit_(root):\n",
      "    cam.release()\n",
      "    root.destroy()\n",
      "\n",
      "\n",
      "def update_fps(fps_label):\n",
      "    frame_times = fps_label._frame_times\n",
      "    frame_times.rotate()\n",
      "    frame_times[0] = time.time()\n",
      "    sum_of_deltas = frame_times[0] - frame_times[-1]\n",
      "    count_of_deltas = len(frame_times) - 1\n",
      "    try:\n",
      "        fps = int(float(count_of_deltas) / sum_of_deltas)\n",
      "    except ZeroDivisionError:\n",
      "        fps = 0\n",
      "    fps_label.configure(text='FPS: {}'.format(fps))\n",
      "\n",
      "\n",
      "def update_all(root, canvas, cam, fps_label):\n",
      "    #update_image(canvas, cam)\n",
      "    \n",
      "    ret, img = cam.read()\n",
      "    cv2.flip(img,1)\n",
      "    gray = cv2.cvtColor(img, cv2.COLOR_BGR2GRAY)\n",
      "    gray = cv2.equalizeHist(gray)\n",
      "    rects = detect(gray, cascade)\n",
      "    \n",
      "    \n",
      "    \n",
      "    \n",
      "    \n",
      "    vis = img.copy()\n",
      "    vis = vis[...,::-1]#converts BGR to RGB\n",
      "    a = Image.fromarray(vis)\n",
      "    \n",
      "    faces=[]\n",
      "    for x1, y1, x2, y2 in rects:\n",
      "        roi = gray[y1:y2, x1:x2]\n",
      "        temp = roi.copy()\n",
      "        resized = cv2.resize(temp, (120,90))\n",
      "        cv2.imwrite(\"broken.jpg\",temp)\n",
      "        global model\n",
      "        [p_label, p_confidence] = model.predict(resized)\n",
      "        if(p_confidence>3000):\n",
      "            print p_label\n",
      "        print p_confidence\n",
      "        faces.append([[(x1+x2)/2,(y1+y2)/2]])\n",
      "    draw_sprites.draw_sprites(a,faces)\n",
      "        \n",
      "    b = ImageTk.PhotoImage(image=a)\n",
      "    #canvas.delete(tk.ALL)\n",
      "    #canvas.delete('all')\n",
      "    global frame \n",
      "    frame = canvas.create_image(0,0,image=b,anchor=tk.NW) \n",
      "    root.update()\n",
      "    time.sleep(.0001)\n",
      "    update_fps(fps_label)\n",
      "    root.after(0, func=lambda: update_all(root, canvas, cam, fps_label))\n",
      "    \n",
      "    \n",
      "if __name__ == '__main__':\n",
      "    import sys, getopt\n",
      "    global model\n",
      "    model = train_model()\n",
      "    cascade_fn='haarcascades/haarcascade_frontalface_alt.xml'\n",
      "\n",
      "    cascade = cv2.CascadeClassifier(cascade_fn)\n",
      "\n",
      "    cam = cv2.VideoCapture(0)\n",
      "    cam.set(3,640)\n",
      "    cam.set(4,480)\n",
      "    \n",
      "    \n",
      "    root = tk.Tk() \n",
      "    \n",
      "    \n",
      "    videoframe = tk.LabelFrame(root,text='Captured video')\n",
      "    videoframe.grid(column=0,row=0,columnspan=1,rowspan=1,padx=5, pady=5, ipadx=5, ipady=5)\n",
      "    canvas = tk.Canvas(videoframe, width=640,height=480)\n",
      "    canvas.grid(column=0,row=0)\n",
      "    Im = Image.open(\"test.jpg\")\n",
      "    b = ImageTk.PhotoImage(Im) \n",
      "    fps_label = tk.Label(master=videoframe)# label for fps\n",
      "    fps_label._frame_times = deque([0]*5)  # arbitrary 5 frame average FPS\n",
      "    fps_label.grid(column=0,row=1)\n",
      "    quit_button = tk.Button(master=videoframe, text='Quit',command=lambda: quit_(root))\n",
      "    quit_button.grid(column=0,row=2)\n",
      "    # setup the update callback\n",
      "    root.after(0, func=lambda: update_all(root, canvas, cam, fps_label))\n",
      "    root.mainloop()\n",
      "    del cam\n"
     ],
     "language": "python",
     "metadata": {},
     "outputs": [
      {
       "output_type": "stream",
       "stream": "stdout",
       "text": [
        "[array([[197, 199, 198, ..., 214, 210, 208],\n",
        "       [194, 198, 200, ..., 213, 213, 213],\n",
        "       [196, 196, 197, ..., 215, 214, 212],\n",
        "       ..., \n",
        "       [133, 132, 136, ..., 186, 189, 189],\n",
        "       [133, 134, 132, ..., 180, 186, 187],\n",
        "       [131, 133, 109, ..., 168, 186, 188]], dtype=uint8), array([[183, 183, 183, ...,  35,  35,  35],\n",
        "       [183, 183, 183, ...,  35,  35,  35],\n",
        "       [183, 183, 183, ...,  35,  35,  35],\n",
        "       ..., \n",
        "       [120, 120, 120, ...,  73,  73,  73],\n",
        "       [120, 120, 120, ...,  73,  73,  73],\n",
        "       [120, 120, 120, ...,  73,  73,  73]], dtype=uint8), array([[179, 179, 179, ..., 178, 178, 178],\n",
        "       [179, 179, 179, ..., 178, 178, 178],\n",
        "       [179, 179, 179, ..., 178, 178, 178],\n",
        "       ..., \n",
        "       [ 19,  19,  19, ...,  27,  27,  27],\n",
        "       [ 19,  19,  19, ...,  27,  27,  27],\n",
        "       [ 19,  19,  19, ...,  27,  27,  27]], dtype=uint8), array([[ 20,  20,  20, ..., 108, 108, 108],\n",
        "       [ 20,  20,  20, ..., 108, 108, 108],\n",
        "       [ 20,  20,  20, ..., 108, 108, 108],\n",
        "       ..., \n",
        "       [ 47,  47,  47, ...,  87,  87,  87],\n",
        "       [ 47,  47,  47, ...,  87,  87,  87],\n",
        "       [ 47,  47,  47, ...,  87,  87,  87]], dtype=uint8), array([[ 70,  70,  70, ..., 221, 221, 221],\n",
        "       [ 70,  70,  70, ..., 221, 221, 221],\n",
        "       [ 70,  70,  70, ..., 221, 221, 221],\n",
        "       ..., \n",
        "       [ 45,  45,  45, ...,  64,  64,  64],\n",
        "       [ 45,  45,  45, ...,  64,  64,  64],\n",
        "       [ 45,  45,  45, ...,  64,  64,  64]], dtype=uint8), array([[175, 175, 175, ..., 175, 175, 175],\n",
        "       [175, 175, 175, ..., 175, 175, 175],\n",
        "       [175, 175, 175, ..., 175, 175, 175],\n",
        "       ..., \n",
        "       [ 25,  25,  25, ...,  24,  24,  24],\n",
        "       [ 25,  25,  25, ...,  24,  24,  24],\n",
        "       [ 25,  25,  25, ...,  24,  24,  24]], dtype=uint8), array([[178, 178, 178, ..., 192, 192, 192],\n",
        "       [178, 178, 178, ..., 192, 192, 192],\n",
        "       [178, 178, 178, ..., 192, 192, 192],\n",
        "       ..., \n",
        "       [ 19,  19,  19, ...,  25,  25,  25],\n",
        "       [ 19,  19,  19, ...,  25,  25,  25],\n",
        "       [ 19,  19,  19, ...,  25,  25,  25]], dtype=uint8), array([[181, 181, 181, ...,  75,  75,  75],\n",
        "       [181, 181, 181, ...,  75,  75,  75],\n",
        "       [181, 181, 181, ...,  75,  75,  75],\n",
        "       ..., \n",
        "       [ 25,  25,  25, ...,  27,  27,  27],\n",
        "       [ 25,  25,  25, ...,  27,  27,  27],\n",
        "       [ 25,  25,  25, ...,  27,  27,  27]], dtype=uint8), array([[ 22,  22,  22, ..., 113, 113, 113],\n",
        "       [ 22,  22,  22, ..., 113, 113, 113],\n",
        "       [ 22,  22,  22, ..., 113, 113, 113],\n",
        "       ..., \n",
        "       [168, 168, 168, ..., 108, 108, 108],\n",
        "       [168, 168, 168, ..., 108, 108, 108],\n",
        "       [168, 168, 168, ..., 108, 108, 108]], dtype=uint8), array([[ 21,  21,  21, ..., 111, 111, 111],\n",
        "       [ 21,  21,  21, ..., 111, 111, 111],\n",
        "       [ 21,  21,  21, ..., 111, 111, 111],\n",
        "       ..., \n",
        "       [132, 132, 132, ...,  82,  82,  82],\n",
        "       [132, 132, 132, ...,  82,  82,  82],\n",
        "       [132, 132, 132, ...,  82,  82,  82]], dtype=uint8), array([[ 60,  60,  60, ..., 214, 214, 214],\n",
        "       [ 60,  60,  60, ..., 214, 214, 214],\n",
        "       [ 60,  60,  60, ..., 214, 214, 214],\n",
        "       ..., \n",
        "       [ 28,  28,  28, ...,   7,   7,   7],\n",
        "       [ 28,  28,  28, ...,   7,   7,   7],\n",
        "       [ 28,  28,  28, ...,   7,   7,   7]], dtype=uint8)]\n",
        "[6, 5, 1, 3, 2, 1, 1, 1, 3, 3, 4]\n",
        "2902.41191664"
       ]
      },
      {
       "output_type": "stream",
       "stream": "stdout",
       "text": [
        "\n",
        "2891.37136036"
       ]
      },
      {
       "output_type": "stream",
       "stream": "stdout",
       "text": [
        "\n",
        "2863.94833969"
       ]
      },
      {
       "output_type": "stream",
       "stream": "stdout",
       "text": [
        "\n",
        "2850.49105019"
       ]
      },
      {
       "output_type": "stream",
       "stream": "stdout",
       "text": [
        "\n",
        "2870.11444623"
       ]
      },
      {
       "output_type": "stream",
       "stream": "stdout",
       "text": [
        "\n",
        "2876.29760543"
       ]
      },
      {
       "output_type": "stream",
       "stream": "stdout",
       "text": [
        "\n",
        "2927.35849165"
       ]
      },
      {
       "output_type": "stream",
       "stream": "stdout",
       "text": [
        "\n",
        "2955.72582603"
       ]
      },
      {
       "output_type": "stream",
       "stream": "stdout",
       "text": [
        "\n",
        "2998.36186482"
       ]
      },
      {
       "output_type": "stream",
       "stream": "stdout",
       "text": [
        "\n",
        "2908.85841402"
       ]
      },
      {
       "output_type": "stream",
       "stream": "stdout",
       "text": [
        "\n",
        "2874.64719878"
       ]
      },
      {
       "output_type": "stream",
       "stream": "stdout",
       "text": [
        "\n",
        "2903.99279715"
       ]
      },
      {
       "output_type": "stream",
       "stream": "stdout",
       "text": [
        "\n",
        "2893.84058843"
       ]
      },
      {
       "output_type": "stream",
       "stream": "stdout",
       "text": [
        "\n",
        "2892.12294597"
       ]
      },
      {
       "output_type": "stream",
       "stream": "stdout",
       "text": [
        "\n",
        "2909.05104546"
       ]
      },
      {
       "output_type": "stream",
       "stream": "stdout",
       "text": [
        "\n",
        "2902.7574899"
       ]
      },
      {
       "output_type": "stream",
       "stream": "stdout",
       "text": [
        "\n"
       ]
      },
      {
       "output_type": "stream",
       "stream": "stderr",
       "text": [
        "Exception in Tkinter callback\n",
        "Traceback (most recent call last):\n",
        "  File \"/usr/lib/python2.7/lib-tk/Tkinter.py\", line 1473, in __call__\n",
        "    return self.func(*args)\n",
        "  File \"/usr/lib/python2.7/lib-tk/Tkinter.py\", line 534, in callit\n",
        "    func(*args)\n",
        "  File \"<ipython-input-25-c3ab8c34062c>\", line 84, in <lambda>\n",
        "    root.after(0, func=lambda: update_all(root, canvas, cam, fps_label))\n",
        "  File \"<ipython-input-25-c3ab8c34062c>\", line 83, in update_all\n",
        "    update_fps(fps_label)\n",
        "  File \"<ipython-input-25-c3ab8c34062c>\", line 42, in update_fps\n",
        "    fps_label.configure(text='FPS: {}'.format(fps))\n",
        "  File \"/usr/lib/python2.7/lib-tk/Tkinter.py\", line 1265, in configure\n",
        "    return self._configure('configure', cnf, kw)\n",
        "  File \"/usr/lib/python2.7/lib-tk/Tkinter.py\", line 1256, in _configure\n",
        "    self.tk.call(_flatten((self._w, cmd)) + self._options(cnf))\n",
        "TclError: invalid command name \".99663528.98540072\"\n"
       ]
      }
     ],
     "prompt_number": 25
    },
    {
     "cell_type": "code",
     "collapsed": false,
     "input": [
      "        "
     ],
     "language": "python",
     "metadata": {},
     "outputs": [],
     "prompt_number": 7
    },
    {
     "cell_type": "code",
     "collapsed": false,
     "input": [],
     "language": "python",
     "metadata": {},
     "outputs": [],
     "prompt_number": 7
    }
   ],
   "metadata": {}
  }
 ]
}
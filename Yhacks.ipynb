{
 "metadata": {
  "name": ""
 },
 "nbformat": 3,
 "nbformat_minor": 0,
 "worksheets": [
  {
   "cells": [
    {
     "cell_type": "code",
     "collapsed": false,
     "input": [
      "import os\n",
      "import sys\n",
      "import cv2\n",
      "import numpy as np\n",
      "def read_images(path, sz=None):\n",
      "    \"\"\"Reads the images in a given folder, resizes images on the fly if size is given.\n",
      "\n",
      "    Args:\n",
      "        path: Path to a folder with subfolders representing the subjects (persons).\n",
      "        sz: A tuple with the size Resizes \n",
      "\n",
      "    Returns:\n",
      "        A list [X,y]\n",
      "\n",
      "            X: The images, which is a Python list of numpy arrays.\n",
      "            y: The corresponding labels (the unique number of the subject, person) in a Python list.\n",
      "    \"\"\"\n",
      "    c = 0\n",
      "    X,y = [], []\n",
      "    for subject_path, dirnames, filenames in os.walk(path):\n",
      "        #print subject_path\n",
      "        for filename in os.listdir(subject_path):\n",
      "            if  not os.path.isfile(os.path.join(subject_path, filename)):\n",
      "                continue\n",
      "            try:\n",
      "                im = cv2.imread(os.path.join(subject_path, filename), cv2.IMREAD_GRAYSCALE)\n",
      "                # resize to given size (if given)\n",
      "                if (sz is not None):\n",
      "                    im = cv2.resize(im, sz)\n",
      "                \n",
      "                X.append(np.asarray(im, dtype=np.uint8))\n",
      "                y.append(int(filename[0]))\n",
      "            except IOError, (errno, strerror):\n",
      "                print \"I/O error({0}): {1}\".format(errno, strerror)\n",
      "            except:\n",
      "                print \"Unexpected error:\", sys.exc_info()[0]\n",
      "                raise\n",
      "            c = (c+1)\n",
      "    return [X,y]"
     ],
     "language": "python",
     "metadata": {},
     "outputs": [],
     "prompt_number": 34
    },
    {
     "cell_type": "code",
     "collapsed": false,
     "input": [
      "def train_model():\n",
      "    [X,y] = read_images(os.getcwd()+'/training/', sz=(120,90))\n",
      "    model = cv2.createFisherFaceRecognizer()\n",
      "    model.train(np.asarray(X), np.asarray(y))\n",
      "    return model"
     ],
     "language": "python",
     "metadata": {},
     "outputs": [],
     "prompt_number": 35
    },
    {
     "cell_type": "code",
     "collapsed": false,
     "input": [
      "import numpy as np\n",
      "import cv2\n",
      "import time\n",
      "import draw_sprites\n",
      "from collections import deque\n",
      "from PIL import Image, ImageTk\n",
      "import Tkinter as tk\n",
      "\n",
      "global frame\n",
      "global model\n",
      "def detect(img, cascade):\n",
      "    rects = cascade.detectMultiScale(img, scaleFactor=1.3, minNeighbors=2, minSize=(50, 50), flags = cv2.CASCADE_SCALE_IMAGE)\n",
      "    if len(rects) == 0:\n",
      "        return []\n",
      "    rects[:,2:] += rects[:,:2]\n",
      "    return rects\n",
      "\n",
      "def draw_rects(img, rects, color):\n",
      "    pil_im = Image.fromarray(np.uint8(cm.gist_earth(img)*255))\n",
      "    faces=[]\n",
      "    for x1, y1, x2, y2 in rects:\n",
      "        faces.append([[(x1+x2)/2,(y1+y2)/2]])\n",
      "    pil_img=draw_sprites.draw_sprites(pi,faces)\n",
      "    img=image2array(pil_img)\n",
      "\n",
      "\n",
      "def quit_(root):\n",
      "    cam.release()\n",
      "    root.destroy()\n",
      "\n",
      "\n",
      "def update_fps(fps_label):\n",
      "    frame_times = fps_label._frame_times\n",
      "    frame_times.rotate()\n",
      "    frame_times[0] = time.time()\n",
      "    sum_of_deltas = frame_times[0] - frame_times[-1]\n",
      "    count_of_deltas = len(frame_times) - 1\n",
      "    try:\n",
      "        fps = int(float(count_of_deltas) / sum_of_deltas)\n",
      "    except ZeroDivisionError:\n",
      "        fps = 0\n",
      "    fps_label.configure(text='FPS: {}'.format(fps))\n",
      "\n",
      "\n",
      "def update_all(root, canvas, cam, fps_label):\n",
      "    #update_image(canvas, cam)\n",
      "    \n",
      "    ret, img = cam.read()\n",
      "    cv2.flip(img,1)\n",
      "    gray = cv2.cvtColor(img, cv2.COLOR_BGR2GRAY)\n",
      "    gray = cv2.equalizeHist(gray)\n",
      "    rects = detect(gray, cascade)\n",
      "    \n",
      "    \n",
      "    \n",
      "    \n",
      "    \n",
      "    vis = img.copy()\n",
      "    vis = vis[...,::-1]#converts BGR to RGB\n",
      "    a = Image.fromarray(vis)\n",
      "    \n",
      "    faces=[]\n",
      "    for x1, y1, x2, y2 in rects:\n",
      "        roi = gray[y1:y2, x1:x2]\n",
      "        temp = roi.copy()\n",
      "        resized = cv2.resize(temp, (120,90))\n",
      "        cv2.imwrite(\"broken.jpg\",temp)\n",
      "        global model\n",
      "        [p_label, p_confidence] = model.predict(resized)\n",
      "        if(p_confidence>3000):\n",
      "            print p_label\n",
      "        print p_confidence\n",
      "        faces.append([[(x1+x2)/2,(y1+y2)/2]])\n",
      "    draw_sprites.draw_sprites(a,faces)\n",
      "        \n",
      "    b = ImageTk.PhotoImage(image=a)\n",
      "    #canvas.delete(tk.ALL)\n",
      "    #canvas.delete('all')\n",
      "    global frame \n",
      "    frame = canvas.create_image(0,0,image=b,anchor=tk.NW) \n",
      "    root.update()\n",
      "    time.sleep(.0001)\n",
      "    update_fps(fps_label)\n",
      "    root.after(0, func=lambda: update_all(root, canvas, cam, fps_label))\n",
      "    \n",
      "    \n",
      "if __name__ == '__main__':\n",
      "    import sys, getopt\n",
      "    global model\n",
      "    model = train_model()\n",
      "    cascade_fn='haarcascades/haarcascade_frontalface_alt.xml'\n",
      "\n",
      "    cascade = cv2.CascadeClassifier(cascade_fn)\n",
      "\n",
      "    cam = cv2.VideoCapture(0)\n",
      "    cam.set(3,640)\n",
      "    cam.set(4,480)\n",
      "    \n",
      "    \n",
      "    root = tk.Tk() \n",
      "    \n",
      "    \n",
      "    videoframe = tk.LabelFrame(root,text='Captured video')\n",
      "    videoframe.grid(column=0,row=0,columnspan=1,rowspan=1,padx=5, pady=5, ipadx=5, ipady=5)\n",
      "    canvas = tk.Canvas(videoframe, width=640,height=480)\n",
      "    canvas.grid(column=0,row=0)\n",
      "    Im = Image.open(\"test.jpg\")\n",
      "    b = ImageTk.PhotoImage(Im) \n",
      "    fps_label = tk.Label(master=videoframe)# label for fps\n",
      "    fps_label._frame_times = deque([0]*5)  # arbitrary 5 frame average FPS\n",
      "    fps_label.grid(column=0,row=1)\n",
      "    quit_button = tk.Button(master=videoframe, text='Quit',command=lambda: quit_(root))\n",
      "    quit_button.grid(column=0,row=2)\n",
      "    # setup the update callback\n",
      "    root.after(0, func=lambda: update_all(root, canvas, cam, fps_label))\n",
      "    root.mainloop()\n",
      "    del cam\n"
     ],
     "language": "python",
     "metadata": {},
     "outputs": [
      {
       "output_type": "stream",
       "stream": "stdout",
       "text": [
        "2334.20837976\n",
        "6"
       ]
      },
      {
       "output_type": "stream",
       "stream": "stdout",
       "text": [
        "\n",
        "3564.72529088\n",
        "6"
       ]
      },
      {
       "output_type": "stream",
       "stream": "stdout",
       "text": [
        "\n",
        "3676.09014587\n",
        "6"
       ]
      },
      {
       "output_type": "stream",
       "stream": "stdout",
       "text": [
        "\n",
        "3466.75975129\n",
        "6"
       ]
      },
      {
       "output_type": "stream",
       "stream": "stdout",
       "text": [
        "\n",
        "3591.75576573\n",
        "6"
       ]
      },
      {
       "output_type": "stream",
       "stream": "stdout",
       "text": [
        "\n",
        "3521.25236135\n",
        "6"
       ]
      },
      {
       "output_type": "stream",
       "stream": "stdout",
       "text": [
        "\n",
        "3444.43193861\n",
        "6"
       ]
      },
      {
       "output_type": "stream",
       "stream": "stdout",
       "text": [
        "\n",
        "3438.45067328\n",
        "6"
       ]
      },
      {
       "output_type": "stream",
       "stream": "stdout",
       "text": [
        "\n",
        "3396.04895749\n",
        "6"
       ]
      },
      {
       "output_type": "stream",
       "stream": "stdout",
       "text": [
        "\n",
        "3461.15367469\n",
        "6"
       ]
      },
      {
       "output_type": "stream",
       "stream": "stdout",
       "text": [
        "\n",
        "3474.34361325\n",
        "6"
       ]
      },
      {
       "output_type": "stream",
       "stream": "stdout",
       "text": [
        "\n",
        "3463.34701902\n",
        "6"
       ]
      },
      {
       "output_type": "stream",
       "stream": "stdout",
       "text": [
        "\n",
        "3475.98308929\n",
        "6"
       ]
      },
      {
       "output_type": "stream",
       "stream": "stdout",
       "text": [
        "\n",
        "3453.45146458\n",
        "6"
       ]
      },
      {
       "output_type": "stream",
       "stream": "stdout",
       "text": [
        "\n",
        "3527.95620964\n",
        "6"
       ]
      },
      {
       "output_type": "stream",
       "stream": "stdout",
       "text": [
        "\n",
        "3568.74141096\n",
        "6"
       ]
      },
      {
       "output_type": "stream",
       "stream": "stdout",
       "text": [
        "\n",
        "3609.31247763\n",
        "6"
       ]
      },
      {
       "output_type": "stream",
       "stream": "stdout",
       "text": [
        "\n",
        "3663.4709724\n",
        "6"
       ]
      },
      {
       "output_type": "stream",
       "stream": "stdout",
       "text": [
        "\n",
        "3755.27844936\n",
        "6"
       ]
      },
      {
       "output_type": "stream",
       "stream": "stdout",
       "text": [
        "\n",
        "3616.6189425\n",
        "6"
       ]
      },
      {
       "output_type": "stream",
       "stream": "stdout",
       "text": [
        "\n",
        "3783.46178866\n",
        "6"
       ]
      },
      {
       "output_type": "stream",
       "stream": "stdout",
       "text": [
        "\n",
        "3583.80548574\n",
        "6"
       ]
      },
      {
       "output_type": "stream",
       "stream": "stdout",
       "text": [
        "\n",
        "3611.91263855\n",
        "6"
       ]
      },
      {
       "output_type": "stream",
       "stream": "stdout",
       "text": [
        "\n",
        "3588.45392115\n",
        "6"
       ]
      },
      {
       "output_type": "stream",
       "stream": "stdout",
       "text": [
        "\n",
        "3727.213776\n",
        "6"
       ]
      },
      {
       "output_type": "stream",
       "stream": "stdout",
       "text": [
        "\n",
        "3448.46096662\n",
        "6"
       ]
      },
      {
       "output_type": "stream",
       "stream": "stdout",
       "text": [
        "\n",
        "3556.8099431\n",
        "6"
       ]
      },
      {
       "output_type": "stream",
       "stream": "stdout",
       "text": [
        "\n",
        "3502.20923946\n",
        "6"
       ]
      },
      {
       "output_type": "stream",
       "stream": "stdout",
       "text": [
        "\n",
        "3596.58118811\n",
        "6"
       ]
      },
      {
       "output_type": "stream",
       "stream": "stdout",
       "text": [
        "\n",
        "3554.23484381\n",
        "6"
       ]
      },
      {
       "output_type": "stream",
       "stream": "stdout",
       "text": [
        "\n",
        "3850.89608873\n",
        "6"
       ]
      },
      {
       "output_type": "stream",
       "stream": "stdout",
       "text": [
        "\n",
        "3602.5430895\n",
        "6"
       ]
      },
      {
       "output_type": "stream",
       "stream": "stdout",
       "text": [
        "\n",
        "3767.62881918\n",
        "6"
       ]
      },
      {
       "output_type": "stream",
       "stream": "stdout",
       "text": [
        "\n",
        "3709.37790151\n",
        "6"
       ]
      },
      {
       "output_type": "stream",
       "stream": "stdout",
       "text": [
        "\n",
        "3650.89672248\n",
        "6"
       ]
      },
      {
       "output_type": "stream",
       "stream": "stdout",
       "text": [
        "\n",
        "3763.29134002\n",
        "6"
       ]
      },
      {
       "output_type": "stream",
       "stream": "stdout",
       "text": [
        "\n",
        "3797.59288912\n",
        "6"
       ]
      },
      {
       "output_type": "stream",
       "stream": "stdout",
       "text": [
        "\n",
        "3801.81667487\n",
        "6"
       ]
      },
      {
       "output_type": "stream",
       "stream": "stdout",
       "text": [
        "\n",
        "3748.30432837\n",
        "6"
       ]
      },
      {
       "output_type": "stream",
       "stream": "stdout",
       "text": [
        "\n",
        "3750.99845861\n",
        "6"
       ]
      },
      {
       "output_type": "stream",
       "stream": "stdout",
       "text": [
        "\n",
        "3810.86890044\n",
        "6"
       ]
      },
      {
       "output_type": "stream",
       "stream": "stdout",
       "text": [
        "\n",
        "3887.75113162\n",
        "6"
       ]
      },
      {
       "output_type": "stream",
       "stream": "stdout",
       "text": [
        "\n",
        "3721.22185325\n",
        "6"
       ]
      },
      {
       "output_type": "stream",
       "stream": "stdout",
       "text": [
        "\n",
        "3733.58514197\n",
        "6"
       ]
      },
      {
       "output_type": "stream",
       "stream": "stdout",
       "text": [
        "\n",
        "3815.47502482\n",
        "6"
       ]
      },
      {
       "output_type": "stream",
       "stream": "stdout",
       "text": [
        "\n",
        "3699.83644838\n",
        "6"
       ]
      },
      {
       "output_type": "stream",
       "stream": "stdout",
       "text": [
        "\n",
        "3477.56640721\n",
        "6"
       ]
      },
      {
       "output_type": "stream",
       "stream": "stdout",
       "text": [
        "\n",
        "3642.53893272\n",
        "6"
       ]
      },
      {
       "output_type": "stream",
       "stream": "stdout",
       "text": [
        "\n",
        "3624.80056959\n",
        "6"
       ]
      },
      {
       "output_type": "stream",
       "stream": "stdout",
       "text": [
        "\n",
        "3635.12296449\n",
        "6"
       ]
      },
      {
       "output_type": "stream",
       "stream": "stdout",
       "text": [
        "\n",
        "3784.03630183\n",
        "6"
       ]
      },
      {
       "output_type": "stream",
       "stream": "stdout",
       "text": [
        "\n",
        "3848.0387753\n",
        "6"
       ]
      },
      {
       "output_type": "stream",
       "stream": "stdout",
       "text": [
        "\n",
        "3828.29813318\n",
        "6"
       ]
      },
      {
       "output_type": "stream",
       "stream": "stdout",
       "text": [
        "\n",
        "3620.04122129\n",
        "6"
       ]
      },
      {
       "output_type": "stream",
       "stream": "stdout",
       "text": [
        "\n",
        "3561.61135817\n",
        "6"
       ]
      },
      {
       "output_type": "stream",
       "stream": "stdout",
       "text": [
        "\n",
        "3496.20478656\n",
        "6"
       ]
      },
      {
       "output_type": "stream",
       "stream": "stdout",
       "text": [
        "\n",
        "3636.7431469\n",
        "6"
       ]
      },
      {
       "output_type": "stream",
       "stream": "stdout",
       "text": [
        "\n",
        "3627.62620312\n",
        "6"
       ]
      },
      {
       "output_type": "stream",
       "stream": "stdout",
       "text": [
        "\n",
        "3720.00693498\n",
        "6"
       ]
      },
      {
       "output_type": "stream",
       "stream": "stdout",
       "text": [
        "\n",
        "3613.68137483\n",
        "6"
       ]
      },
      {
       "output_type": "stream",
       "stream": "stdout",
       "text": [
        "\n",
        "3687.41997929\n",
        "6"
       ]
      },
      {
       "output_type": "stream",
       "stream": "stdout",
       "text": [
        "\n",
        "3588.80465322\n",
        "6"
       ]
      },
      {
       "output_type": "stream",
       "stream": "stdout",
       "text": [
        "\n",
        "3596.64475932\n",
        "6"
       ]
      },
      {
       "output_type": "stream",
       "stream": "stdout",
       "text": [
        "\n",
        "3619.04770386\n",
        "6"
       ]
      },
      {
       "output_type": "stream",
       "stream": "stdout",
       "text": [
        "\n",
        "3578.56102914\n",
        "6"
       ]
      },
      {
       "output_type": "stream",
       "stream": "stdout",
       "text": [
        "\n",
        "3529.97847206\n",
        "6"
       ]
      },
      {
       "output_type": "stream",
       "stream": "stdout",
       "text": [
        "\n",
        "3489.80683563\n",
        "6"
       ]
      },
      {
       "output_type": "stream",
       "stream": "stdout",
       "text": [
        "\n",
        "3467.58593537\n",
        "6"
       ]
      },
      {
       "output_type": "stream",
       "stream": "stdout",
       "text": [
        "\n",
        "3822.21366352\n",
        "6"
       ]
      },
      {
       "output_type": "stream",
       "stream": "stdout",
       "text": [
        "\n",
        "3814.41756684\n",
        "6"
       ]
      },
      {
       "output_type": "stream",
       "stream": "stdout",
       "text": [
        "\n",
        "3772.765794\n",
        "6"
       ]
      },
      {
       "output_type": "stream",
       "stream": "stdout",
       "text": [
        "\n",
        "3743.63697639\n",
        "6"
       ]
      },
      {
       "output_type": "stream",
       "stream": "stdout",
       "text": [
        "\n",
        "3512.03618073\n",
        "6"
       ]
      },
      {
       "output_type": "stream",
       "stream": "stdout",
       "text": [
        "\n",
        "3481.53696341\n",
        "6"
       ]
      },
      {
       "output_type": "stream",
       "stream": "stdout",
       "text": [
        "\n",
        "3519.63611735\n",
        "6"
       ]
      },
      {
       "output_type": "stream",
       "stream": "stdout",
       "text": [
        "\n",
        "3523.10285063\n",
        "6"
       ]
      },
      {
       "output_type": "stream",
       "stream": "stdout",
       "text": [
        "\n",
        "3523.94744846\n",
        "6"
       ]
      },
      {
       "output_type": "stream",
       "stream": "stdout",
       "text": [
        "\n",
        "3580.72956502\n",
        "6"
       ]
      },
      {
       "output_type": "stream",
       "stream": "stdout",
       "text": [
        "\n",
        "3571.67080961\n",
        "6"
       ]
      },
      {
       "output_type": "stream",
       "stream": "stdout",
       "text": [
        "\n",
        "3866.60814908\n",
        "6"
       ]
      },
      {
       "output_type": "stream",
       "stream": "stdout",
       "text": [
        "\n",
        "4299.32708688\n",
        "6"
       ]
      },
      {
       "output_type": "stream",
       "stream": "stdout",
       "text": [
        "\n",
        "4103.9971208\n",
        "6"
       ]
      },
      {
       "output_type": "stream",
       "stream": "stdout",
       "text": [
        "\n",
        "3960.03742122\n",
        "6"
       ]
      },
      {
       "output_type": "stream",
       "stream": "stdout",
       "text": [
        "\n",
        "4000.60634742\n",
        "6"
       ]
      },
      {
       "output_type": "stream",
       "stream": "stdout",
       "text": [
        "\n",
        "4128.58449621\n",
        "6"
       ]
      },
      {
       "output_type": "stream",
       "stream": "stdout",
       "text": [
        "\n",
        "3919.85541563\n",
        "6"
       ]
      },
      {
       "output_type": "stream",
       "stream": "stdout",
       "text": [
        "\n",
        "4096.52093505\n",
        "6"
       ]
      },
      {
       "output_type": "stream",
       "stream": "stdout",
       "text": [
        "\n",
        "3835.23640873\n",
        "6"
       ]
      },
      {
       "output_type": "stream",
       "stream": "stdout",
       "text": [
        "\n",
        "3778.75073694\n"
       ]
      },
      {
       "output_type": "stream",
       "stream": "stderr",
       "text": [
        "Exception in Tkinter callback\n",
        "Traceback (most recent call last):\n",
        "  File \"/usr/lib/python2.7/lib-tk/Tkinter.py\", line 1473, in __call__\n",
        "    return self.func(*args)\n",
        "  File \"/usr/lib/python2.7/lib-tk/Tkinter.py\", line 534, in callit\n",
        "    func(*args)\n",
        "  File \"<ipython-input-38-c3ab8c34062c>\", line 84, in <lambda>\n",
        "    root.after(0, func=lambda: update_all(root, canvas, cam, fps_label))\n",
        "  File \"<ipython-input-38-c3ab8c34062c>\", line 52, in update_all\n",
        "    rects = detect(gray, cascade)\n",
        "  File \"<ipython-input-38-c3ab8c34062c>\", line 12, in detect\n",
        "    rects = cascade.detectMultiScale(img, scaleFactor=1.3, minNeighbors=2, minSize=(50, 50), flags = cv2.CASCADE_SCALE_IMAGE)\n",
        "KeyboardInterrupt\n"
       ]
      }
     ],
     "prompt_number": 38
    },
    {
     "cell_type": "code",
     "collapsed": false,
     "input": [
      "        "
     ],
     "language": "python",
     "metadata": {},
     "outputs": [],
     "prompt_number": 7
    },
    {
     "cell_type": "code",
     "collapsed": false,
     "input": [],
     "language": "python",
     "metadata": {},
     "outputs": [],
     "prompt_number": 7
    }
   ],
   "metadata": {}
  }
 ]
}
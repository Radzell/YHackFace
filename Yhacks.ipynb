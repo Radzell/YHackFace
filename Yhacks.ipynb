{
 "metadata": {
  "name": ""
 },
 "nbformat": 3,
 "nbformat_minor": 0,
 "worksheets": [
  {
   "cells": [
    {
     "cell_type": "code",
     "collapsed": false,
     "input": [
      "import time\n",
      "import cv2\n",
      "import cv2.cv as cv\n",
      " \n",
      " \n",
      "def draw_rects(img, rects, color):\n",
      "    for x1, y1, x2, y2 in rects:\n",
      "        cv2.rectangle(img, (x1, y1), (x2, y2), color, 2)\n",
      " \n",
      " \n",
      "def demo(img):\n",
      "    print \">>> Loading image...\"\n",
      "    img_color = img\n",
      "    img_gray = cv2.cvtColor(img_color, cv.CV_RGB2GRAY)\n",
      "    img_gray = cv2.equalizeHist(img_gray)\n",
      "    #print in_fn, img_gray.shape\n",
      " \n",
      "    print \">>> Detecting faces...\"\n",
      "    start = time.time()\n",
      "    rects = detect(img_gray)\n",
      "    end = time.time()\n",
      "    print 'time:', end - start\n",
      "    img_out = img_color.copy()\n",
      "    draw_rects(img_out, rects, (0, 255, 0))\n",
      "    return img_out\n",
      " \n",
      "def main():\n",
      "    cap = cv2.VideoCapture(0)\n",
      "    while cap.isOpened():\n",
      "        ret,img = cap.read()\n",
      "        image = demo(img)\n",
      "        cv2.imshow(\"lll\",img)\n",
      "        k = cv.WaitKey(10);\n",
      "        if k == 'f':\n",
      "            break\n",
      " \n",
      " \n",
      "if __name__ == '__main__':\n",
      "    main()"
     ],
     "language": "python",
     "metadata": {},
     "outputs": [
      {
       "output_type": "stream",
       "stream": "stdout",
       "text": [
        ">>> Loading image...\n",
        ">>> Detecting faces...\n",
        "time:"
       ]
      },
      {
       "output_type": "stream",
       "stream": "stdout",
       "text": [
        " 0.327038049698\n",
        ">>> Loading image..."
       ]
      },
      {
       "output_type": "stream",
       "stream": "stdout",
       "text": [
        "\n",
        ">>> Detecting faces...\n",
        "time:"
       ]
      },
      {
       "output_type": "stream",
       "stream": "stdout",
       "text": [
        " 0.339407920837\n",
        ">>> Loading image...\n",
        ">>> Detecting faces...\n",
        "time:"
       ]
      },
      {
       "output_type": "stream",
       "stream": "stdout",
       "text": [
        " 0.322191953659\n",
        ">>> Loading image...\n",
        ">>> Detecting faces...\n",
        "time:"
       ]
      },
      {
       "output_type": "stream",
       "stream": "stdout",
       "text": [
        " 0.327289104462\n",
        ">>> Loading image...\n",
        ">>> Detecting faces...\n",
        "time:"
       ]
      },
      {
       "output_type": "stream",
       "stream": "stdout",
       "text": [
        " 0.326933145523\n",
        ">>> Loading image...\n",
        ">>> Detecting faces...\n",
        "time:"
       ]
      },
      {
       "output_type": "stream",
       "stream": "stdout",
       "text": [
        " 0.332031965256\n",
        ">>> Loading image...\n",
        ">>> Detecting faces...\n",
        "time:"
       ]
      },
      {
       "output_type": "stream",
       "stream": "stdout",
       "text": [
        " 0.325299024582\n",
        ">>> Loading image...\n",
        ">>> Detecting faces...\n",
        "time:"
       ]
      },
      {
       "output_type": "stream",
       "stream": "stdout",
       "text": [
        " 0.32400393486\n",
        ">>> Loading image...\n",
        ">>> Detecting faces...\n",
        "time:"
       ]
      },
      {
       "output_type": "stream",
       "stream": "stdout",
       "text": [
        " 0.326933860779\n",
        ">>> Loading image...\n",
        ">>> Detecting faces...\n",
        "time:"
       ]
      },
      {
       "output_type": "stream",
       "stream": "stdout",
       "text": [
        " 0.322674036026\n",
        ">>> Loading image...\n",
        ">>> Detecting faces...\n",
        "time:"
       ]
      },
      {
       "output_type": "stream",
       "stream": "stdout",
       "text": [
        " 0.325604915619\n",
        ">>> Loading image...\n",
        ">>> Detecting faces...\n",
        "time:"
       ]
      },
      {
       "output_type": "stream",
       "stream": "stdout",
       "text": [
        " 0.32403087616\n",
        ">>> Loading image...\n",
        ">>> Detecting faces...\n",
        "time:"
       ]
      },
      {
       "output_type": "stream",
       "stream": "stdout",
       "text": [
        " 0.325531959534\n",
        ">>> Loading image...\n",
        ">>> Detecting faces...\n",
        "time:"
       ]
      },
      {
       "output_type": "stream",
       "stream": "stdout",
       "text": [
        " 0.32194685936\n",
        ">>> Loading image...\n",
        ">>> Detecting faces...\n",
        "time:"
       ]
      },
      {
       "output_type": "stream",
       "stream": "stdout",
       "text": [
        " 0.324522972107\n",
        ">>> Loading image...\n",
        ">>> Detecting faces...\n",
        "time:"
       ]
      },
      {
       "output_type": "stream",
       "stream": "stdout",
       "text": [
        " 0.327507019043\n",
        ">>> Loading image...\n",
        ">>> Detecting faces...\n",
        "time:"
       ]
      },
      {
       "output_type": "stream",
       "stream": "stdout",
       "text": [
        " 0.325981140137\n",
        ">>> Loading image...\n",
        ">>> Detecting faces...\n",
        "time:"
       ]
      },
      {
       "output_type": "stream",
       "stream": "stdout",
       "text": [
        " 0.326015233994\n",
        ">>> Loading image...\n",
        ">>> Detecting faces...\n",
        "time:"
       ]
      },
      {
       "output_type": "stream",
       "stream": "stdout",
       "text": [
        " 0.323165893555\n",
        ">>> Loading image...\n",
        ">>> Detecting faces...\n",
        "time:"
       ]
      },
      {
       "output_type": "stream",
       "stream": "stdout",
       "text": [
        " 0.322473049164\n",
        ">>> Loading image...\n",
        ">>> Detecting faces...\n",
        "time:"
       ]
      },
      {
       "output_type": "stream",
       "stream": "stdout",
       "text": [
        " 0.328934192657\n",
        ">>> Loading image...\n",
        ">>> Detecting faces...\n",
        "time:"
       ]
      },
      {
       "output_type": "stream",
       "stream": "stdout",
       "text": [
        " 0.329801797867\n",
        ">>> Loading image...\n",
        ">>> Detecting faces...\n",
        "time:"
       ]
      },
      {
       "output_type": "stream",
       "stream": "stdout",
       "text": [
        " 0.321712017059\n",
        ">>> Loading image...\n",
        ">>> Detecting faces...\n",
        "time:"
       ]
      },
      {
       "output_type": "stream",
       "stream": "stdout",
       "text": [
        " 0.327939987183\n",
        ">>> Loading image...\n",
        ">>> Detecting faces...\n",
        "time:"
       ]
      },
      {
       "output_type": "stream",
       "stream": "stdout",
       "text": [
        " 0.324002981186\n",
        ">>> Loading image...\n",
        ">>> Detecting faces...\n",
        "time:"
       ]
      },
      {
       "output_type": "stream",
       "stream": "stdout",
       "text": [
        " 0.329946994781\n",
        ">>> Loading image...\n",
        ">>> Detecting faces...\n",
        "time:"
       ]
      },
      {
       "output_type": "stream",
       "stream": "stdout",
       "text": [
        " 0.324410915375\n",
        ">>> Loading image...\n",
        ">>> Detecting faces...\n",
        "time:"
       ]
      },
      {
       "output_type": "stream",
       "stream": "stdout",
       "text": [
        " 0.324900865555\n",
        ">>> Loading image...\n",
        ">>> Detecting faces...\n",
        "time:"
       ]
      },
      {
       "output_type": "stream",
       "stream": "stdout",
       "text": [
        " 0.318476200104\n",
        ">>> Loading image...\n",
        ">>> Detecting faces...\n",
        "time:"
       ]
      },
      {
       "output_type": "stream",
       "stream": "stdout",
       "text": [
        " 0.319010972977\n",
        ">>> Loading image...\n",
        ">>> Detecting faces...\n",
        "time:"
       ]
      },
      {
       "output_type": "stream",
       "stream": "stdout",
       "text": [
        " 0.324015140533\n",
        ">>> Loading image...\n",
        ">>> Detecting faces...\n",
        "time:"
       ]
      },
      {
       "output_type": "stream",
       "stream": "stdout",
       "text": [
        " 0.325011014938\n",
        ">>> Loading image...\n",
        ">>> Detecting faces...\n",
        "time:"
       ]
      },
      {
       "output_type": "stream",
       "stream": "stdout",
       "text": [
        " 0.323517084122\n",
        ">>> Loading image...\n",
        ">>> Detecting faces...\n",
        "time:"
       ]
      },
      {
       "output_type": "stream",
       "stream": "stdout",
       "text": [
        " 0.321224212646\n",
        ">>> Loading image...\n",
        ">>> Detecting faces...\n",
        "time:"
       ]
      },
      {
       "output_type": "stream",
       "stream": "stdout",
       "text": [
        " 0.322767972946\n",
        ">>> Loading image...\n",
        ">>> Detecting faces...\n",
        "time:"
       ]
      },
      {
       "output_type": "stream",
       "stream": "stdout",
       "text": [
        " 0.328839063644\n",
        ">>> Loading image...\n",
        ">>> Detecting faces...\n",
        "time:"
       ]
      },
      {
       "output_type": "stream",
       "stream": "stdout",
       "text": [
        " 0.328829050064\n",
        ">>> Loading image...\n",
        ">>> Detecting faces...\n",
        "time:"
       ]
      },
      {
       "output_type": "stream",
       "stream": "stdout",
       "text": [
        " 0.3305580616\n",
        ">>> Loading image...\n",
        ">>> Detecting faces...\n",
        "time:"
       ]
      },
      {
       "output_type": "stream",
       "stream": "stdout",
       "text": [
        " 0.326619148254\n",
        ">>> Loading image...\n",
        ">>> Detecting faces...\n",
        "time:"
       ]
      },
      {
       "output_type": "stream",
       "stream": "stdout",
       "text": [
        " 0.325495958328\n",
        ">>> Loading image...\n",
        ">>> Detecting faces...\n",
        "time:"
       ]
      },
      {
       "output_type": "stream",
       "stream": "stdout",
       "text": [
        " 0.319462060928\n",
        ">>> Loading image...\n",
        ">>> Detecting faces...\n",
        "time:"
       ]
      },
      {
       "output_type": "stream",
       "stream": "stdout",
       "text": [
        " 0.322019100189\n",
        ">>> Loading image...\n",
        ">>> Detecting faces...\n",
        "time:"
       ]
      },
      {
       "output_type": "stream",
       "stream": "stdout",
       "text": [
        " 0.322666883469\n",
        ">>> Loading image...\n",
        ">>> Detecting faces...\n",
        "time:"
       ]
      },
      {
       "output_type": "stream",
       "stream": "stdout",
       "text": [
        " 0.317096948624\n",
        ">>> Loading image...\n",
        ">>> Detecting faces...\n",
        "time:"
       ]
      },
      {
       "output_type": "stream",
       "stream": "stdout",
       "text": [
        " 0.320220947266\n",
        ">>> Loading image...\n",
        ">>> Detecting faces...\n",
        "time:"
       ]
      },
      {
       "output_type": "stream",
       "stream": "stdout",
       "text": [
        " 0.323511838913\n",
        ">>> Loading image...\n",
        ">>> Detecting faces...\n",
        "time:"
       ]
      },
      {
       "output_type": "stream",
       "stream": "stdout",
       "text": [
        " 0.321114063263\n",
        ">>> Loading image...\n",
        ">>> Detecting faces...\n",
        "time:"
       ]
      },
      {
       "output_type": "stream",
       "stream": "stdout",
       "text": [
        " 0.320473909378\n",
        ">>> Loading image...\n",
        ">>> Detecting faces...\n",
        "time:"
       ]
      },
      {
       "output_type": "stream",
       "stream": "stdout",
       "text": [
        " 0.32106590271\n",
        ">>> Loading image...\n",
        ">>> Detecting faces...\n",
        "time:"
       ]
      },
      {
       "output_type": "stream",
       "stream": "stdout",
       "text": [
        " 0.318936109543\n",
        ">>> Loading image...\n",
        ">>> Detecting faces...\n",
        "time:"
       ]
      },
      {
       "output_type": "stream",
       "stream": "stdout",
       "text": [
        " 0.317285060883\n",
        ">>> Loading image...\n",
        ">>> Detecting faces...\n",
        "time:"
       ]
      },
      {
       "output_type": "stream",
       "stream": "stdout",
       "text": [
        " 0.316295862198\n",
        ">>> Loading image...\n",
        ">>> Detecting faces...\n",
        "time:"
       ]
      },
      {
       "output_type": "stream",
       "stream": "stdout",
       "text": [
        " 0.319026947021\n",
        ">>> Loading image...\n",
        ">>> Detecting faces...\n",
        "time:"
       ]
      },
      {
       "output_type": "stream",
       "stream": "stdout",
       "text": [
        " 0.32387304306\n",
        ">>> Loading image...\n",
        ">>> Detecting faces...\n",
        "time:"
       ]
      },
      {
       "output_type": "stream",
       "stream": "stdout",
       "text": [
        " 0.321828126907\n",
        ">>> Loading image...\n",
        ">>> Detecting faces...\n",
        "time:"
       ]
      },
      {
       "output_type": "stream",
       "stream": "stdout",
       "text": [
        " 0.328125953674\n",
        ">>> Loading image...\n",
        ">>> Detecting faces...\n",
        "time:"
       ]
      },
      {
       "output_type": "stream",
       "stream": "stdout",
       "text": [
        " 0.321794986725\n",
        ">>> Loading image...\n",
        ">>> Detecting faces...\n",
        "time:"
       ]
      },
      {
       "output_type": "stream",
       "stream": "stdout",
       "text": [
        " 0.321741819382\n",
        ">>> Loading image...\n",
        ">>> Detecting faces...\n",
        "time:"
       ]
      },
      {
       "output_type": "stream",
       "stream": "stdout",
       "text": [
        " 0.325006008148\n",
        ">>> Loading image...\n",
        ">>> Detecting faces...\n",
        "time:"
       ]
      },
      {
       "output_type": "stream",
       "stream": "stdout",
       "text": [
        " 0.323351860046\n",
        ">>> Loading image...\n",
        ">>> Detecting faces...\n",
        "time:"
       ]
      },
      {
       "output_type": "stream",
       "stream": "stdout",
       "text": [
        " 0.325284004211\n",
        ">>> Loading image...\n",
        ">>> Detecting faces...\n",
        "time:"
       ]
      },
      {
       "output_type": "stream",
       "stream": "stdout",
       "text": [
        " 0.32848906517\n",
        ">>> Loading image...\n",
        ">>> Detecting faces...\n",
        "time:"
       ]
      },
      {
       "output_type": "stream",
       "stream": "stdout",
       "text": [
        " 0.328488826752\n",
        ">>> Loading image...\n",
        ">>> Detecting faces...\n",
        "time:"
       ]
      },
      {
       "output_type": "stream",
       "stream": "stdout",
       "text": [
        " 0.321821928024\n",
        ">>> Loading image...\n",
        ">>> Detecting faces...\n",
        "time:"
       ]
      },
      {
       "output_type": "stream",
       "stream": "stdout",
       "text": [
        " 0.320968866348\n",
        ">>> Loading image...\n",
        ">>> Detecting faces...\n",
        "time:"
       ]
      },
      {
       "output_type": "stream",
       "stream": "stdout",
       "text": [
        " 0.324656963348\n",
        ">>> Loading image...\n",
        ">>> Detecting faces...\n",
        "time:"
       ]
      },
      {
       "output_type": "stream",
       "stream": "stdout",
       "text": [
        " 0.321809053421\n",
        ">>> Loading image...\n",
        ">>> Detecting faces...\n",
        "time:"
       ]
      },
      {
       "output_type": "stream",
       "stream": "stdout",
       "text": [
        " 0.329385995865\n",
        ">>> Loading image...\n",
        ">>> Detecting faces...\n",
        "time:"
       ]
      },
      {
       "output_type": "stream",
       "stream": "stdout",
       "text": [
        " 0.325024843216\n",
        ">>> Loading image...\n",
        ">>> Detecting faces...\n",
        "time:"
       ]
      },
      {
       "output_type": "stream",
       "stream": "stdout",
       "text": [
        " 0.322543144226\n",
        ">>> Loading image...\n",
        ">>> Detecting faces...\n",
        "time:"
       ]
      },
      {
       "output_type": "stream",
       "stream": "stdout",
       "text": [
        " 0.322216033936\n",
        ">>> Loading image...\n",
        ">>> Detecting faces...\n",
        "time:"
       ]
      },
      {
       "output_type": "stream",
       "stream": "stdout",
       "text": [
        " 0.322334051132\n",
        ">>> Loading image...\n",
        ">>> Detecting faces...\n",
        "time:"
       ]
      },
      {
       "output_type": "stream",
       "stream": "stdout",
       "text": [
        " 0.321375131607\n",
        ">>> Loading image...\n",
        ">>> Detecting faces...\n",
        "time:"
       ]
      },
      {
       "output_type": "stream",
       "stream": "stdout",
       "text": [
        " 0.317842006683\n",
        ">>> Loading image...\n",
        ">>> Detecting faces...\n",
        "time:"
       ]
      },
      {
       "output_type": "stream",
       "stream": "stdout",
       "text": [
        " 0.319483995438\n",
        ">>> Loading image...\n",
        ">>> Detecting faces...\n",
        "time:"
       ]
      },
      {
       "output_type": "stream",
       "stream": "stdout",
       "text": [
        " 0.320960044861\n",
        ">>> Loading image...\n",
        ">>> Detecting faces...\n",
        "time:"
       ]
      },
      {
       "output_type": "stream",
       "stream": "stdout",
       "text": [
        " 0.316319942474\n",
        ">>> Loading image...\n",
        ">>> Detecting faces...\n",
        "time:"
       ]
      },
      {
       "output_type": "stream",
       "stream": "stdout",
       "text": [
        " 0.320198059082\n",
        ">>> Loading image...\n",
        ">>> Detecting faces...\n",
        "time:"
       ]
      },
      {
       "output_type": "stream",
       "stream": "stdout",
       "text": [
        " 0.322439908981\n",
        ">>> Loading image...\n",
        ">>> Detecting faces...\n",
        "time:"
       ]
      },
      {
       "output_type": "stream",
       "stream": "stdout",
       "text": [
        " 0.334275960922\n",
        ">>> Loading image...\n",
        ">>> Detecting faces...\n",
        "time:"
       ]
      },
      {
       "output_type": "stream",
       "stream": "stdout",
       "text": [
        " 0.325414896011\n",
        ">>> Loading image...\n",
        ">>> Detecting faces...\n",
        "time:"
       ]
      },
      {
       "output_type": "stream",
       "stream": "stdout",
       "text": [
        " 0.322674036026\n",
        ">>> Loading image...\n",
        ">>> Detecting faces...\n",
        "time:"
       ]
      },
      {
       "output_type": "stream",
       "stream": "stdout",
       "text": [
        " 0.329152107239\n",
        ">>> Loading image...\n",
        ">>> Detecting faces...\n",
        "time:"
       ]
      },
      {
       "output_type": "stream",
       "stream": "stdout",
       "text": [
        " 0.329461812973\n",
        ">>> Loading image...\n",
        ">>> Detecting faces...\n",
        "time:"
       ]
      },
      {
       "output_type": "stream",
       "stream": "stdout",
       "text": [
        " 0.325704097748\n",
        ">>> Loading image...\n",
        ">>> Detecting faces...\n",
        "time:"
       ]
      },
      {
       "output_type": "stream",
       "stream": "stdout",
       "text": [
        " 0.328758955002\n",
        ">>> Loading image...\n",
        ">>> Detecting faces...\n",
        "time:"
       ]
      },
      {
       "output_type": "stream",
       "stream": "stdout",
       "text": [
        " 0.326625108719\n",
        ">>> Loading image...\n",
        ">>> Detecting faces...\n",
        "time:"
       ]
      },
      {
       "output_type": "stream",
       "stream": "stdout",
       "text": [
        " 0.325845956802\n",
        ">>> Loading image...\n",
        ">>> Detecting faces...\n",
        "time:"
       ]
      },
      {
       "output_type": "stream",
       "stream": "stdout",
       "text": [
        " 0.328649044037\n",
        ">>> Loading image...\n",
        ">>> Detecting faces...\n",
        "time:"
       ]
      },
      {
       "output_type": "stream",
       "stream": "stdout",
       "text": [
        " 0.326977968216\n",
        ">>> Loading image...\n",
        ">>> Detecting faces...\n",
        "time:"
       ]
      },
      {
       "output_type": "stream",
       "stream": "stdout",
       "text": [
        " 0.326951980591\n",
        ">>> Loading image...\n",
        ">>> Detecting faces...\n",
        "time:"
       ]
      },
      {
       "output_type": "stream",
       "stream": "stdout",
       "text": [
        " 0.331232070923\n",
        ">>> Loading image...\n",
        ">>> Detecting faces...\n",
        "time:"
       ]
      },
      {
       "output_type": "stream",
       "stream": "stdout",
       "text": [
        " 0.325356006622\n",
        ">>> Loading image...\n",
        ">>> Detecting faces...\n",
        "time:"
       ]
      },
      {
       "output_type": "stream",
       "stream": "stdout",
       "text": [
        " 0.326883077621\n",
        ">>> Loading image...\n",
        ">>> Detecting faces...\n",
        "time:"
       ]
      },
      {
       "output_type": "stream",
       "stream": "stdout",
       "text": [
        " 0.327481031418\n",
        ">>> Loading image...\n",
        ">>> Detecting faces...\n",
        "time:"
       ]
      },
      {
       "output_type": "stream",
       "stream": "stdout",
       "text": [
        " 0.326462984085\n",
        ">>> Loading image...\n",
        ">>> Detecting faces...\n",
        "time:"
       ]
      },
      {
       "output_type": "stream",
       "stream": "stdout",
       "text": [
        " 0.32404088974\n",
        ">>> Loading image...\n",
        ">>> Detecting faces...\n",
        "time:"
       ]
      },
      {
       "output_type": "stream",
       "stream": "stdout",
       "text": [
        " 0.327552080154\n",
        ">>> Loading image...\n",
        ">>> Detecting faces...\n",
        "time:"
       ]
      },
      {
       "output_type": "stream",
       "stream": "stdout",
       "text": [
        " 0.325673103333\n",
        ">>> Loading image...\n",
        ">>> Detecting faces...\n",
        "time:"
       ]
      },
      {
       "output_type": "stream",
       "stream": "stdout",
       "text": [
        " 0.323947191238\n",
        ">>> Loading image...\n",
        ">>> Detecting faces...\n",
        "time:"
       ]
      },
      {
       "output_type": "stream",
       "stream": "stdout",
       "text": [
        " 0.327877998352\n",
        ">>> Loading image...\n",
        ">>> Detecting faces...\n",
        "time:"
       ]
      },
      {
       "output_type": "stream",
       "stream": "stdout",
       "text": [
        " 0.352012872696\n",
        ">>> Loading image...\n",
        ">>> Detecting faces...\n",
        "time:"
       ]
      },
      {
       "output_type": "stream",
       "stream": "stdout",
       "text": [
        " 0.32852602005\n",
        ">>> Loading image...\n",
        ">>> Detecting faces...\n",
        "time:"
       ]
      },
      {
       "output_type": "stream",
       "stream": "stdout",
       "text": [
        " 0.330820798874\n",
        ">>> Loading image...\n",
        ">>> Detecting faces...\n",
        "time:"
       ]
      },
      {
       "output_type": "stream",
       "stream": "stdout",
       "text": [
        " 0.336106061935\n",
        ">>> Loading image...\n",
        ">>> Detecting faces...\n",
        "time:"
       ]
      },
      {
       "output_type": "stream",
       "stream": "stdout",
       "text": [
        " 0.326280832291\n",
        ">>> Loading image...\n",
        ">>> Detecting faces...\n",
        "time:"
       ]
      },
      {
       "output_type": "stream",
       "stream": "stdout",
       "text": [
        " 0.32731294632\n",
        ">>> Loading image...\n",
        ">>> Detecting faces...\n",
        "time:"
       ]
      },
      {
       "output_type": "stream",
       "stream": "stdout",
       "text": [
        " 0.332062959671\n",
        ">>> Loading image...\n",
        ">>> Detecting faces...\n",
        "time:"
       ]
      },
      {
       "output_type": "stream",
       "stream": "stdout",
       "text": [
        " 0.329113006592\n",
        ">>> Loading image...\n",
        ">>> Detecting faces...\n",
        "time:"
       ]
      },
      {
       "output_type": "stream",
       "stream": "stdout",
       "text": [
        " 0.337509870529\n",
        ">>> Loading image...\n",
        ">>> Detecting faces...\n",
        "time:"
       ]
      },
      {
       "output_type": "stream",
       "stream": "stdout",
       "text": [
        " 0.34362411499\n",
        ">>> Loading image...\n",
        ">>> Detecting faces...\n",
        "time:"
       ]
      },
      {
       "output_type": "stream",
       "stream": "stdout",
       "text": [
        " 0.32851600647\n",
        ">>> Loading image...\n",
        ">>> Detecting faces...\n",
        "time:"
       ]
      },
      {
       "output_type": "stream",
       "stream": "stdout",
       "text": [
        " 0.329677820206\n",
        ">>> Loading image...\n",
        ">>> Detecting faces...\n",
        "time:"
       ]
      },
      {
       "output_type": "stream",
       "stream": "stdout",
       "text": [
        " 0.328090190887\n",
        ">>> Loading image...\n",
        ">>> Detecting faces...\n",
        "time:"
       ]
      },
      {
       "output_type": "stream",
       "stream": "stdout",
       "text": [
        " 0.327643871307\n",
        ">>> Loading image...\n",
        ">>> Detecting faces...\n",
        "time:"
       ]
      },
      {
       "output_type": "stream",
       "stream": "stdout",
       "text": [
        " 0.333775997162\n",
        ">>> Loading image...\n",
        ">>> Detecting faces...\n",
        "time:"
       ]
      },
      {
       "output_type": "stream",
       "stream": "stdout",
       "text": [
        " 0.325756072998\n",
        ">>> Loading image...\n",
        ">>> Detecting faces...\n",
        "time:"
       ]
      },
      {
       "output_type": "stream",
       "stream": "stdout",
       "text": [
        " 0.322129011154\n",
        ">>> Loading image...\n",
        ">>> Detecting faces...\n",
        "time:"
       ]
      },
      {
       "output_type": "stream",
       "stream": "stdout",
       "text": [
        " 0.325740098953\n",
        ">>> Loading image...\n",
        ">>> Detecting faces...\n",
        "time:"
       ]
      },
      {
       "output_type": "stream",
       "stream": "stdout",
       "text": [
        " 0.323381900787\n",
        ">>> Loading image...\n",
        ">>> Detecting faces...\n",
        "time:"
       ]
      },
      {
       "output_type": "stream",
       "stream": "stdout",
       "text": [
        " 0.326765060425\n",
        ">>> Loading image...\n",
        ">>> Detecting faces...\n",
        "time:"
       ]
      },
      {
       "output_type": "stream",
       "stream": "stdout",
       "text": [
        " 0.324730157852\n",
        ">>> Loading image...\n",
        ">>> Detecting faces...\n",
        "time:"
       ]
      },
      {
       "output_type": "stream",
       "stream": "stdout",
       "text": [
        " 0.327479839325\n",
        ">>> Loading image...\n",
        ">>> Detecting faces...\n",
        "time:"
       ]
      },
      {
       "output_type": "stream",
       "stream": "stdout",
       "text": [
        " 0.328793048859\n",
        ">>> Loading image...\n",
        ">>> Detecting faces...\n",
        "time:"
       ]
      },
      {
       "output_type": "stream",
       "stream": "stdout",
       "text": [
        " 0.327855825424\n",
        ">>> Loading image...\n",
        ">>> Detecting faces...\n",
        "time:"
       ]
      },
      {
       "output_type": "stream",
       "stream": "stdout",
       "text": [
        " 0.328384160995\n",
        ">>> Loading image...\n",
        ">>> Detecting faces...\n",
        "time:"
       ]
      },
      {
       "output_type": "stream",
       "stream": "stdout",
       "text": [
        " 0.339236021042\n",
        ">>> Loading image...\n",
        ">>> Detecting faces...\n",
        "time:"
       ]
      },
      {
       "output_type": "stream",
       "stream": "stdout",
       "text": [
        " 0.342990875244\n",
        ">>> Loading image...\n",
        ">>> Detecting faces...\n",
        "time:"
       ]
      },
      {
       "output_type": "stream",
       "stream": "stdout",
       "text": [
        " 0.334653139114\n",
        ">>> Loading image...\n",
        ">>> Detecting faces...\n",
        "time:"
       ]
      },
      {
       "output_type": "stream",
       "stream": "stdout",
       "text": [
        " 0.338329076767\n",
        ">>> Loading image...\n",
        ">>> Detecting faces...\n",
        "time:"
       ]
      },
      {
       "output_type": "stream",
       "stream": "stdout",
       "text": [
        " 0.332993984222\n",
        ">>> Loading image...\n",
        ">>> Detecting faces...\n",
        "time:"
       ]
      },
      {
       "output_type": "stream",
       "stream": "stdout",
       "text": [
        " 0.32639503479\n",
        ">>> Loading image...\n",
        ">>> Detecting faces...\n",
        "time:"
       ]
      },
      {
       "output_type": "stream",
       "stream": "stdout",
       "text": [
        " 0.324257850647\n",
        ">>> Loading image...\n",
        ">>> Detecting faces...\n",
        "time:"
       ]
      },
      {
       "output_type": "stream",
       "stream": "stdout",
       "text": [
        " 0.322413921356\n",
        ">>> Loading image...\n",
        ">>> Detecting faces...\n",
        "time:"
       ]
      },
      {
       "output_type": "stream",
       "stream": "stdout",
       "text": [
        " 0.32444691658\n",
        ">>> Loading image...\n",
        ">>> Detecting faces...\n",
        "time:"
       ]
      },
      {
       "output_type": "stream",
       "stream": "stdout",
       "text": [
        " 0.327885150909\n",
        ">>> Loading image...\n",
        ">>> Detecting faces...\n",
        "time:"
       ]
      },
      {
       "output_type": "stream",
       "stream": "stdout",
       "text": [
        " 0.325091123581\n",
        ">>> Loading image...\n",
        ">>> Detecting faces...\n",
        "time:"
       ]
      },
      {
       "output_type": "stream",
       "stream": "stdout",
       "text": [
        " 0.322550058365\n",
        ">>> Loading image...\n",
        ">>> Detecting faces...\n",
        "time:"
       ]
      },
      {
       "output_type": "stream",
       "stream": "stdout",
       "text": [
        " 0.336035013199\n",
        ">>> Loading image...\n",
        ">>> Detecting faces...\n",
        "time:"
       ]
      },
      {
       "output_type": "stream",
       "stream": "stdout",
       "text": [
        " 0.337156057358\n",
        ">>> Loading image...\n",
        ">>> Detecting faces...\n",
        "time:"
       ]
      },
      {
       "output_type": "stream",
       "stream": "stdout",
       "text": [
        " 0.329735994339\n",
        ">>> Loading image...\n",
        ">>> Detecting faces...\n",
        "time:"
       ]
      },
      {
       "output_type": "stream",
       "stream": "stdout",
       "text": [
        " 0.333072900772\n",
        ">>> Loading image...\n",
        ">>> Detecting faces...\n",
        "time:"
       ]
      },
      {
       "output_type": "stream",
       "stream": "stdout",
       "text": [
        " 0.331238031387\n",
        ">>> Loading image...\n",
        ">>> Detecting faces...\n",
        "time:"
       ]
      },
      {
       "output_type": "stream",
       "stream": "stdout",
       "text": [
        " 0.327497959137\n",
        ">>> Loading image...\n",
        ">>> Detecting faces...\n",
        "time:"
       ]
      },
      {
       "output_type": "stream",
       "stream": "stdout",
       "text": [
        " 0.326704978943\n",
        ">>> Loading image...\n",
        ">>> Detecting faces...\n",
        "time:"
       ]
      },
      {
       "output_type": "stream",
       "stream": "stdout",
       "text": [
        " 0.326514005661\n",
        ">>> Loading image...\n",
        ">>> Detecting faces...\n",
        "time:"
       ]
      },
      {
       "output_type": "stream",
       "stream": "stdout",
       "text": [
        " 0.324030160904\n",
        ">>> Loading image...\n",
        ">>> Detecting faces...\n",
        "time:"
       ]
      },
      {
       "output_type": "stream",
       "stream": "stdout",
       "text": [
        " 0.326951980591\n",
        ">>> Loading image...\n",
        ">>> Detecting faces...\n",
        "time:"
       ]
      },
      {
       "output_type": "stream",
       "stream": "stdout",
       "text": [
        " 0.328388929367\n",
        ">>> Loading image...\n",
        ">>> Detecting faces...\n",
        "time:"
       ]
      },
      {
       "output_type": "stream",
       "stream": "stdout",
       "text": [
        " 0.33190703392\n",
        ">>> Loading image...\n",
        ">>> Detecting faces...\n",
        "time:"
       ]
      },
      {
       "output_type": "stream",
       "stream": "stdout",
       "text": [
        " 0.330257892609\n",
        ">>> Loading image...\n",
        ">>> Detecting faces...\n",
        "time:"
       ]
      },
      {
       "output_type": "stream",
       "stream": "stdout",
       "text": [
        " 0.334604978561\n",
        ">>> Loading image...\n",
        ">>> Detecting faces...\n",
        "time:"
       ]
      },
      {
       "output_type": "stream",
       "stream": "stdout",
       "text": [
        " 0.328504085541\n",
        ">>> Loading image...\n",
        ">>> Detecting faces...\n",
        "time:"
       ]
      },
      {
       "output_type": "stream",
       "stream": "stdout",
       "text": [
        " 0.330437898636\n",
        ">>> Loading image...\n",
        ">>> Detecting faces...\n",
        "time:"
       ]
      },
      {
       "output_type": "stream",
       "stream": "stdout",
       "text": [
        " 0.343189001083\n",
        ">>> Loading image...\n",
        ">>> Detecting faces...\n",
        "time:"
       ]
      },
      {
       "output_type": "stream",
       "stream": "stdout",
       "text": [
        " 0.343227148056\n",
        ">>> Loading image...\n",
        ">>> Detecting faces...\n",
        "time:"
       ]
      },
      {
       "output_type": "stream",
       "stream": "stdout",
       "text": [
        " 0.340329170227\n",
        ">>> Loading image...\n",
        ">>> Detecting faces...\n",
        "time:"
       ]
      },
      {
       "output_type": "stream",
       "stream": "stdout",
       "text": [
        " 0.340059995651\n",
        ">>> Loading image...\n",
        ">>> Detecting faces...\n",
        "time:"
       ]
      },
      {
       "output_type": "stream",
       "stream": "stdout",
       "text": [
        " 0.360534191132\n",
        ">>> Loading image...\n",
        ">>> Detecting faces...\n",
        "time:"
       ]
      },
      {
       "output_type": "stream",
       "stream": "stdout",
       "text": [
        " 0.329519033432\n",
        ">>> Loading image...\n",
        ">>> Detecting faces...\n",
        "time:"
       ]
      },
      {
       "output_type": "stream",
       "stream": "stdout",
       "text": [
        " 0.338332176208\n",
        ">>> Loading image...\n",
        ">>> Detecting faces...\n",
        "time:"
       ]
      },
      {
       "output_type": "stream",
       "stream": "stdout",
       "text": [
        " 0.340888977051\n",
        ">>> Loading image...\n",
        ">>> Detecting faces...\n",
        "time:"
       ]
      },
      {
       "output_type": "stream",
       "stream": "stdout",
       "text": [
        " 0.34099984169\n",
        ">>> Loading image...\n",
        ">>> Detecting faces...\n",
        "time:"
       ]
      },
      {
       "output_type": "stream",
       "stream": "stdout",
       "text": [
        " 0.344877004623\n",
        ">>> Loading image...\n",
        ">>> Detecting faces...\n",
        "time:"
       ]
      },
      {
       "output_type": "stream",
       "stream": "stdout",
       "text": [
        " 0.336880922318\n",
        ">>> Loading image...\n",
        ">>> Detecting faces...\n",
        "time:"
       ]
      },
      {
       "output_type": "stream",
       "stream": "stdout",
       "text": [
        " 0.340029001236\n",
        ">>> Loading image...\n",
        ">>> Detecting faces...\n",
        "time:"
       ]
      },
      {
       "output_type": "stream",
       "stream": "stdout",
       "text": [
        " 0.33422088623\n",
        ">>> Loading image...\n",
        ">>> Detecting faces...\n",
        "time:"
       ]
      },
      {
       "output_type": "stream",
       "stream": "stdout",
       "text": [
        " 0.33570599556\n",
        ">>> Loading image...\n",
        ">>> Detecting faces...\n",
        "time:"
       ]
      },
      {
       "output_type": "stream",
       "stream": "stdout",
       "text": [
        " 0.339235067368\n",
        ">>> Loading image...\n",
        ">>> Detecting faces...\n",
        "time:"
       ]
      },
      {
       "output_type": "stream",
       "stream": "stdout",
       "text": [
        " 0.338591814041\n",
        ">>> Loading image...\n",
        ">>> Detecting faces...\n",
        "time:"
       ]
      },
      {
       "output_type": "stream",
       "stream": "stdout",
       "text": [
        " 0.347114086151\n",
        ">>> Loading image...\n",
        ">>> Detecting faces...\n",
        "time:"
       ]
      },
      {
       "output_type": "stream",
       "stream": "stdout",
       "text": [
        " 0.338456869125\n",
        ">>> Loading image...\n",
        ">>> Detecting faces...\n",
        "time:"
       ]
      },
      {
       "output_type": "stream",
       "stream": "stdout",
       "text": [
        " 0.336655855179\n",
        ">>> Loading image...\n",
        ">>> Detecting faces...\n",
        "time:"
       ]
      },
      {
       "output_type": "stream",
       "stream": "stdout",
       "text": [
        " 0.331075191498\n",
        ">>> Loading image...\n",
        ">>> Detecting faces...\n",
        "time:"
       ]
      },
      {
       "output_type": "stream",
       "stream": "stdout",
       "text": [
        " 0.338517904282\n",
        ">>> Loading image...\n",
        ">>> Detecting faces...\n",
        "time:"
       ]
      },
      {
       "output_type": "stream",
       "stream": "stdout",
       "text": [
        " 0.330914974213\n",
        ">>> Loading image...\n",
        ">>> Detecting faces...\n",
        "time:"
       ]
      },
      {
       "output_type": "stream",
       "stream": "stdout",
       "text": [
        " 0.334553003311\n",
        ">>> Loading image...\n",
        ">>> Detecting faces...\n",
        "time:"
       ]
      },
      {
       "output_type": "stream",
       "stream": "stdout",
       "text": [
        " 0.331196069717\n",
        ">>> Loading image...\n",
        ">>> Detecting faces...\n",
        "time:"
       ]
      },
      {
       "output_type": "stream",
       "stream": "stdout",
       "text": [
        " 0.332986116409\n",
        ">>> Loading image...\n",
        ">>> Detecting faces...\n",
        "time:"
       ]
      },
      {
       "output_type": "stream",
       "stream": "stdout",
       "text": [
        " 0.331614017487\n",
        ">>> Loading image...\n",
        ">>> Detecting faces...\n",
        "time:"
       ]
      },
      {
       "output_type": "stream",
       "stream": "stdout",
       "text": [
        " 0.334177017212\n",
        ">>> Loading image...\n",
        ">>> Detecting faces...\n",
        "time:"
       ]
      },
      {
       "output_type": "stream",
       "stream": "stdout",
       "text": [
        " 0.331476926804\n",
        ">>> Loading image...\n",
        ">>> Detecting faces...\n",
        "time:"
       ]
      },
      {
       "output_type": "stream",
       "stream": "stdout",
       "text": [
        " 0.338083982468\n",
        ">>> Loading image...\n",
        ">>> Detecting faces...\n",
        "time:"
       ]
      },
      {
       "output_type": "stream",
       "stream": "stdout",
       "text": [
        " 0.340648174286\n",
        ">>> Loading image...\n",
        ">>> Detecting faces...\n",
        "time:"
       ]
      },
      {
       "output_type": "stream",
       "stream": "stdout",
       "text": [
        " 0.329480886459\n",
        ">>> Loading image...\n",
        ">>> Detecting faces...\n",
        "time:"
       ]
      },
      {
       "output_type": "stream",
       "stream": "stdout",
       "text": [
        " 0.330873012543\n",
        ">>> Loading image...\n",
        ">>> Detecting faces...\n",
        "time:"
       ]
      },
      {
       "output_type": "stream",
       "stream": "stdout",
       "text": [
        " 0.333581924438\n",
        ">>> Loading image...\n",
        ">>> Detecting faces...\n",
        "time:"
       ]
      },
      {
       "output_type": "stream",
       "stream": "stdout",
       "text": [
        " 0.330955028534\n",
        ">>> Loading image...\n",
        ">>> Detecting faces...\n",
        "time:"
       ]
      },
      {
       "output_type": "stream",
       "stream": "stdout",
       "text": [
        " 0.335591077805\n",
        ">>> Loading image...\n",
        ">>> Detecting faces...\n",
        "time:"
       ]
      },
      {
       "output_type": "stream",
       "stream": "stdout",
       "text": [
        " 0.334269046783\n",
        ">>> Loading image...\n",
        ">>> Detecting faces...\n",
        "time:"
       ]
      },
      {
       "output_type": "stream",
       "stream": "stdout",
       "text": [
        " 0.335803985596\n",
        ">>> Loading image...\n",
        ">>> Detecting faces...\n",
        "time:"
       ]
      },
      {
       "output_type": "stream",
       "stream": "stdout",
       "text": [
        " 0.338823080063\n",
        ">>> Loading image...\n",
        ">>> Detecting faces...\n",
        "time:"
       ]
      },
      {
       "output_type": "stream",
       "stream": "stdout",
       "text": [
        " 0.340801954269\n",
        ">>> Loading image...\n",
        ">>> Detecting faces...\n",
        "time:"
       ]
      },
      {
       "output_type": "stream",
       "stream": "stdout",
       "text": [
        " 0.344794034958\n",
        ">>> Loading image...\n",
        ">>> Detecting faces...\n",
        "time:"
       ]
      },
      {
       "output_type": "stream",
       "stream": "stdout",
       "text": [
        " 0.328453063965\n",
        ">>> Loading image...\n",
        ">>> Detecting faces...\n",
        "time:"
       ]
      },
      {
       "output_type": "stream",
       "stream": "stdout",
       "text": [
        " 0.33412694931\n",
        ">>> Loading image...\n",
        ">>> Detecting faces...\n",
        "time:"
       ]
      },
      {
       "output_type": "stream",
       "stream": "stdout",
       "text": [
        " 0.333305120468\n",
        ">>> Loading image...\n",
        ">>> Detecting faces...\n",
        "time:"
       ]
      },
      {
       "output_type": "stream",
       "stream": "stdout",
       "text": [
        " 0.346157073975\n",
        ">>> Loading image...\n",
        ">>> Detecting faces...\n",
        "time:"
       ]
      },
      {
       "output_type": "stream",
       "stream": "stdout",
       "text": [
        " 0.344142913818\n",
        ">>> Loading image...\n",
        ">>> Detecting faces...\n",
        "time:"
       ]
      },
      {
       "output_type": "stream",
       "stream": "stdout",
       "text": [
        " 0.335048913956\n",
        ">>> Loading image...\n",
        ">>> Detecting faces...\n",
        "time:"
       ]
      },
      {
       "output_type": "stream",
       "stream": "stdout",
       "text": [
        " 0.333901882172\n",
        ">>> Loading image...\n",
        ">>> Detecting faces...\n",
        "time:"
       ]
      },
      {
       "output_type": "stream",
       "stream": "stdout",
       "text": [
        " 0.33734703064\n",
        ">>> Loading image...\n",
        ">>> Detecting faces...\n",
        "time:"
       ]
      },
      {
       "output_type": "stream",
       "stream": "stdout",
       "text": [
        " 0.337002038956\n",
        ">>> Loading image...\n",
        ">>> Detecting faces...\n",
        "time:"
       ]
      },
      {
       "output_type": "stream",
       "stream": "stdout",
       "text": [
        " 0.334521055222\n",
        ">>> Loading image...\n",
        ">>> Detecting faces...\n",
        "time:"
       ]
      },
      {
       "output_type": "stream",
       "stream": "stdout",
       "text": [
        " 0.326569080353\n",
        ">>> Loading image...\n",
        ">>> Detecting faces...\n",
        "time:"
       ]
      },
      {
       "output_type": "stream",
       "stream": "stdout",
       "text": [
        " 0.328455924988\n",
        ">>> Loading image...\n",
        ">>> Detecting faces...\n",
        "time:"
       ]
      },
      {
       "output_type": "stream",
       "stream": "stdout",
       "text": [
        " 0.329982995987\n",
        ">>> Loading image...\n",
        ">>> Detecting faces...\n",
        "time:"
       ]
      },
      {
       "output_type": "stream",
       "stream": "stdout",
       "text": [
        " 0.330413103104\n",
        ">>> Loading image...\n",
        ">>> Detecting faces...\n",
        "time:"
       ]
      },
      {
       "output_type": "stream",
       "stream": "stdout",
       "text": [
        " 0.326972007751\n",
        ">>> Loading image...\n",
        ">>> Detecting faces...\n",
        "time:"
       ]
      },
      {
       "output_type": "stream",
       "stream": "stdout",
       "text": [
        " 0.327703952789\n",
        ">>> Loading image...\n",
        ">>> Detecting faces...\n",
        "time:"
       ]
      },
      {
       "output_type": "stream",
       "stream": "stdout",
       "text": [
        " 0.327545881271\n",
        ">>> Loading image...\n",
        ">>> Detecting faces...\n",
        "time:"
       ]
      },
      {
       "output_type": "stream",
       "stream": "stdout",
       "text": [
        " 0.3254737854\n",
        ">>> Loading image...\n",
        ">>> Detecting faces...\n",
        "time:"
       ]
      },
      {
       "output_type": "stream",
       "stream": "stdout",
       "text": [
        " 0.330286979675\n",
        ">>> Loading image...\n",
        ">>> Detecting faces...\n",
        "time:"
       ]
      },
      {
       "output_type": "stream",
       "stream": "stdout",
       "text": [
        " 0.339283943176\n",
        ">>> Loading image...\n",
        ">>> Detecting faces...\n",
        "time:"
       ]
      },
      {
       "output_type": "stream",
       "stream": "stdout",
       "text": [
        " 0.337084054947\n",
        ">>> Loading image...\n",
        ">>> Detecting faces...\n",
        "time:"
       ]
      },
      {
       "ename": "KeyboardInterrupt",
       "evalue": "",
       "output_type": "pyerr",
       "traceback": [
        "\u001b[1;31m---------------------------------------------------------------------------\u001b[0m\n\u001b[1;31mKeyboardInterrupt\u001b[0m                         Traceback (most recent call last)",
        "\u001b[1;32m<ipython-input-2-d3b2d90ee43c>\u001b[0m in \u001b[0;36m<module>\u001b[1;34m()\u001b[0m\n\u001b[0;32m     37\u001b[0m \u001b[1;33m\u001b[0m\u001b[0m\n\u001b[0;32m     38\u001b[0m \u001b[1;32mif\u001b[0m \u001b[0m__name__\u001b[0m \u001b[1;33m==\u001b[0m \u001b[1;34m'__main__'\u001b[0m\u001b[1;33m:\u001b[0m\u001b[1;33m\u001b[0m\u001b[0m\n\u001b[1;32m---> 39\u001b[1;33m     \u001b[0mmain\u001b[0m\u001b[1;33m(\u001b[0m\u001b[1;33m)\u001b[0m\u001b[1;33m\u001b[0m\u001b[0m\n\u001b[0m",
        "\u001b[1;32m<ipython-input-2-d3b2d90ee43c>\u001b[0m in \u001b[0;36mmain\u001b[1;34m()\u001b[0m\n\u001b[0;32m     29\u001b[0m     \u001b[1;32mwhile\u001b[0m \u001b[0mcap\u001b[0m\u001b[1;33m.\u001b[0m\u001b[0misOpened\u001b[0m\u001b[1;33m(\u001b[0m\u001b[1;33m)\u001b[0m\u001b[1;33m:\u001b[0m\u001b[1;33m\u001b[0m\u001b[0m\n\u001b[0;32m     30\u001b[0m         \u001b[0mret\u001b[0m\u001b[1;33m,\u001b[0m\u001b[0mimg\u001b[0m \u001b[1;33m=\u001b[0m \u001b[0mcap\u001b[0m\u001b[1;33m.\u001b[0m\u001b[0mread\u001b[0m\u001b[1;33m(\u001b[0m\u001b[1;33m)\u001b[0m\u001b[1;33m\u001b[0m\u001b[0m\n\u001b[1;32m---> 31\u001b[1;33m         \u001b[0mimage\u001b[0m \u001b[1;33m=\u001b[0m \u001b[0mdemo\u001b[0m\u001b[1;33m(\u001b[0m\u001b[0mimg\u001b[0m\u001b[1;33m)\u001b[0m\u001b[1;33m\u001b[0m\u001b[0m\n\u001b[0m\u001b[0;32m     32\u001b[0m         \u001b[0mcv2\u001b[0m\u001b[1;33m.\u001b[0m\u001b[0mimshow\u001b[0m\u001b[1;33m(\u001b[0m\u001b[1;34m\"lll\"\u001b[0m\u001b[1;33m,\u001b[0m\u001b[0mimg\u001b[0m\u001b[1;33m)\u001b[0m\u001b[1;33m\u001b[0m\u001b[0m\n\u001b[0;32m     33\u001b[0m         \u001b[0mk\u001b[0m \u001b[1;33m=\u001b[0m \u001b[0mcv\u001b[0m\u001b[1;33m.\u001b[0m\u001b[0mWaitKey\u001b[0m\u001b[1;33m(\u001b[0m\u001b[1;36m10\u001b[0m\u001b[1;33m)\u001b[0m\u001b[1;33m;\u001b[0m\u001b[1;33m\u001b[0m\u001b[0m\n",
        "\u001b[1;32m<ipython-input-2-d3b2d90ee43c>\u001b[0m in \u001b[0;36mdemo\u001b[1;34m(img)\u001b[0m\n\u001b[0;32m     18\u001b[0m     \u001b[1;32mprint\u001b[0m \u001b[1;34m\">>> Detecting faces...\"\u001b[0m\u001b[1;33m\u001b[0m\u001b[0m\n\u001b[0;32m     19\u001b[0m     \u001b[0mstart\u001b[0m \u001b[1;33m=\u001b[0m \u001b[0mtime\u001b[0m\u001b[1;33m.\u001b[0m\u001b[0mtime\u001b[0m\u001b[1;33m(\u001b[0m\u001b[1;33m)\u001b[0m\u001b[1;33m\u001b[0m\u001b[0m\n\u001b[1;32m---> 20\u001b[1;33m     \u001b[0mrects\u001b[0m \u001b[1;33m=\u001b[0m \u001b[0mdetect\u001b[0m\u001b[1;33m(\u001b[0m\u001b[0mimg_gray\u001b[0m\u001b[1;33m)\u001b[0m\u001b[1;33m\u001b[0m\u001b[0m\n\u001b[0m\u001b[0;32m     21\u001b[0m     \u001b[0mend\u001b[0m \u001b[1;33m=\u001b[0m \u001b[0mtime\u001b[0m\u001b[1;33m.\u001b[0m\u001b[0mtime\u001b[0m\u001b[1;33m(\u001b[0m\u001b[1;33m)\u001b[0m\u001b[1;33m\u001b[0m\u001b[0m\n\u001b[0;32m     22\u001b[0m     \u001b[1;32mprint\u001b[0m \u001b[1;34m'time:'\u001b[0m\u001b[1;33m,\u001b[0m \u001b[0mend\u001b[0m \u001b[1;33m-\u001b[0m \u001b[0mstart\u001b[0m\u001b[1;33m\u001b[0m\u001b[0m\n",
        "\u001b[1;32m<ipython-input-1-03c8de6299cb>\u001b[0m in \u001b[0;36mdetect\u001b[1;34m(img, cascade_fn, scaleFactor, minNeighbors, minSize, flags)\u001b[0m\n\u001b[0;32m     11\u001b[0m     rects = cascade.detectMultiScale(img, scaleFactor=scaleFactor,\n\u001b[0;32m     12\u001b[0m                                      \u001b[0mminNeighbors\u001b[0m\u001b[1;33m=\u001b[0m\u001b[0mminNeighbors\u001b[0m\u001b[1;33m,\u001b[0m\u001b[1;33m\u001b[0m\u001b[0m\n\u001b[1;32m---> 13\u001b[1;33m                                      minSize=minSize, flags=flags)\n\u001b[0m\u001b[0;32m     14\u001b[0m     \u001b[1;32mif\u001b[0m \u001b[0mlen\u001b[0m\u001b[1;33m(\u001b[0m\u001b[0mrects\u001b[0m\u001b[1;33m)\u001b[0m \u001b[1;33m==\u001b[0m \u001b[1;36m0\u001b[0m\u001b[1;33m:\u001b[0m\u001b[1;33m\u001b[0m\u001b[0m\n\u001b[0;32m     15\u001b[0m         \u001b[1;32mreturn\u001b[0m \u001b[1;33m[\u001b[0m\u001b[1;33m]\u001b[0m\u001b[1;33m\u001b[0m\u001b[0m\n",
        "\u001b[1;31mKeyboardInterrupt\u001b[0m: "
       ]
      },
      {
       "output_type": "stream",
       "stream": "stdout",
       "text": [
        " 0.330038070679\n",
        ">>> Loading image...\n",
        ">>> Detecting faces...\n"
       ]
      }
     ],
     "prompt_number": 2
    },
    {
     "cell_type": "code",
     "collapsed": false,
     "input": [],
     "language": "python",
     "metadata": {},
     "outputs": [
      {
       "ename": "ImportError",
       "evalue": "No module named video",
       "output_type": "pyerr",
       "traceback": [
        "\u001b[1;31m---------------------------------------------------------------------------\u001b[0m\n\u001b[1;31mImportError\u001b[0m                               Traceback (most recent call last)",
        "\u001b[1;32m<ipython-input-6-d86e968ff32a>\u001b[0m in \u001b[0;36m<module>\u001b[1;34m()\u001b[0m\n\u001b[0;32m      3\u001b[0m \u001b[1;33m\u001b[0m\u001b[0m\n\u001b[0;32m      4\u001b[0m \u001b[1;31m# local modules\u001b[0m\u001b[1;33m\u001b[0m\u001b[1;33m\u001b[0m\u001b[0m\n\u001b[1;32m----> 5\u001b[1;33m \u001b[1;32mfrom\u001b[0m \u001b[0mvideo\u001b[0m \u001b[1;32mimport\u001b[0m \u001b[0mcreate_capture\u001b[0m\u001b[1;33m\u001b[0m\u001b[0m\n\u001b[0m\u001b[0;32m      6\u001b[0m \u001b[1;32mfrom\u001b[0m \u001b[0mcommon\u001b[0m \u001b[1;32mimport\u001b[0m \u001b[0mclock\u001b[0m\u001b[1;33m,\u001b[0m \u001b[0mdraw_str\u001b[0m\u001b[1;33m\u001b[0m\u001b[0m\n\u001b[0;32m      7\u001b[0m \u001b[1;33m\u001b[0m\u001b[0m\n",
        "\u001b[1;31mImportError\u001b[0m: No module named video"
       ]
      }
     ],
     "prompt_number": 6
    },
    {
     "cell_type": "code",
     "collapsed": false,
     "input": [
      "#!/usr/bin/env python\n",
      "\n",
      "import numpy as np\n",
      "import cv2\n",
      "import time\n",
      "\n",
      "def detect(img, cascade):\n",
      "    rects = cascade.detectMultiScale(img, scaleFactor=1.3, minNeighbors=2, minSize=(30, 30), flags = cv2.CASCADE_SCALE_IMAGE)\n",
      "    if len(rects) == 0:\n",
      "        return []\n",
      "    rects[:,2:] += rects[:,:2]\n",
      "    return rects\n",
      "\n",
      "def draw_rects(img, rects, color):\n",
      "    for x1, y1, x2, y2 in rects:\n",
      "        cv2.rectangle(img, (x1, y1), (x2, y2), color, 2)\n",
      "        \n",
      "def draw_str(dst, (x, y), s):\n",
      "    cv2.putText(dst, s, (x+1, y+1), cv2.FONT_HERSHEY_PLAIN, 1.0, (0, 0, 0), thickness = 2)\n",
      "    cv2.putText(dst, s, (x, y), cv2.FONT_HERSHEY_PLAIN, 1.0, (255, 255, 255))\n",
      "\n",
      "\n",
      "if __name__ == '__main__':\n",
      "    import sys, getopt\n",
      "    \n",
      "    cascade_fn='haarcascades/haarcascade_frontalface_alt.xml'\n",
      "\n",
      "    cascade = cv2.CascadeClassifier(cascade_fn)\n",
      "\n",
      "    cam = cv2.VideoCapture(0)\n",
      "\n",
      "    while cam.isOpened:\n",
      "        ret, img = cam.read()\n",
      "        if img is None:\n",
      "            break\n",
      "        cv2.flip(img,1)\n",
      "        cv2.imshow('facedetect', img)\n",
      "        gray = cv2.cvtColor(img, cv2.COLOR_BGR2GRAY)\n",
      "        gray = cv2.equalizeHist(gray)\n",
      "\n",
      "        t = time.time()\n",
      "        rects = detect(gray, cascade)\n",
      "        vis = img.copy()\n",
      "        draw_rects(vis, rects, (0, 255, 0))\n",
      "        for x1, y1, x2, y2 in rects:\n",
      "            roi = gray[y1:y2, x1:x2]\n",
      "            vis_roi = vis[y1:y2, x1:x2]\n",
      "        dt = time.time() - t\n",
      "\n",
      "        draw_str(vis, (20, 20), 'time: %.1f ms' % (dt*1000))\n",
      "        cv2.imshow('facedetect', vis)\n",
      "\n",
      "        if 0xFF & cv2.waitKey(5) == 27:\n",
      "            break\n",
      "    cv2.destroyAllWindows()"
     ],
     "language": "python",
     "metadata": {},
     "outputs": [],
     "prompt_number": 1
    },
    {
     "cell_type": "code",
     "collapsed": false,
     "input": [],
     "language": "python",
     "metadata": {},
     "outputs": []
    }
   ],
   "metadata": {}
  }
 ]
}
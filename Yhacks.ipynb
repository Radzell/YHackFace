{
 "metadata": {
  "name": ""
 },
 "nbformat": 3,
 "nbformat_minor": 0,
 "worksheets": [
  {
   "cells": [
    {
     "cell_type": "code",
     "collapsed": false,
     "input": [
      "import os\n",
      "import sys\n",
      "import cv2\n",
      "import numpy as np\n",
      "def read_images(path, sz=None):\n",
      "    \"\"\"Reads the images in a given folder, resizes images on the fly if size is given.\n",
      "\n",
      "    Args:\n",
      "        path: Path to a folder with subfolders representing the subjects (persons).\n",
      "        sz: A tuple with the size Resizes \n",
      "\n",
      "    Returns:\n",
      "        A list [X,y]\n",
      "\n",
      "            X: The images, which is a Python list of numpy arrays.\n",
      "            y: The corresponding labels (the unique number of the subject, person) in a Python list.\n",
      "    \"\"\"\n",
      "    c = 0\n",
      "    X,y = [], []\n",
      "    for subject_path, dirnames, filenames in os.walk(path):\n",
      "        for filename in os.listdir(subject_path):\n",
      "            if  not os.path.isfile(os.path.join(subject_path, filename)):\n",
      "                continue\n",
      "            try:\n",
      "                im = cv2.imread(os.path.join(subject_path, filename), cv2.IMREAD_GRAYSCALE)\n",
      "                # resize to given size (if given)\n",
      "                if (sz is not None):\n",
      "                    im = cv2.resize(im, sz)\n",
      "                X.append(np.asarray(im, dtype=np.uint8))\n",
      "                y.append(int(filename[0]))\n",
      "            except IOError, (errno, strerror):\n",
      "                print \"I/O error({0}): {1}\".format(errno, strerror)\n",
      "            except:\n",
      "                print \"Unexpected error:\", sys.exc_info()[0]\n",
      "                raise\n",
      "            c = (c+1)\n",
      "    return [X,y]"
     ],
     "language": "python",
     "metadata": {},
     "outputs": [],
     "prompt_number": 1
    },
    {
     "cell_type": "code",
     "collapsed": false,
     "input": [
      "def train_model():\n",
      "    [X,y] = read_images(os.getcwd()+'/training/',sz=(100,100))\n",
      "    model = cv2.createFisherFaceRecognizer()\n",
      "    model.train(np.asarray(X), np.asarray(y))\n",
      "    return model"
     ],
     "language": "python",
     "metadata": {},
     "outputs": [],
     "prompt_number": 2
    },
    {
     "cell_type": "code",
     "collapsed": false,
     "input": [
      "how to submit your hacks are now up on our website: http://www.y-hack.com/subimport numpy as np\n",
      "import cv2\n",
      "import time\n",
      "import ImageDraw\n",
      "from collections import deque\n",
      "from PIL import Image, ImageTk\n",
      "import Tkinter as tk\n",
      "import math\n",
      "import webbrowser\n",
      "\n",
      "global frame\n",
      "global model\n",
      "global buttons\n",
      "global db\n",
      "db={1:\n",
      "    [\"https://www.facebook.com/josh.makinen\",\"https://plus.google.com/+JoshuaMakinen\",\"https://twitter.com/JoshuaMakinen\",\"http://www.linkedin.com/profile/view?id=289942967&trk=nav_responsive_tab_profile\",\"https://github.com/makinj\"],\n",
      "    2:\n",
      "    [\"https://www.facebook.com/josh.makinen\",\"https://plus.google.com/+JoshuaMakinen\",\"https://twitter.com/JoshuaMakinen\",\"http://www.linkedin.com/profile/view?id=289942967&trk=nav_responsive_tab_profile\",\"https://github.com/makinj\"],\n",
      "    3:\n",
      "    [\"https://www.facebook.com/josh.makinen\",\"https://plus.google.com/+JoshuaMakinen\",\"https://twitter.com/JoshuaMakinen\",\"http://www.linkedin.com/profile/view?id=289942967&trk=nav_responsive_tab_profile\",\"https://github.com/makinj\"],\n",
      "    6:\n",
      "    [\"https://www.facebook.com/josh.makinen\",\"https://plus.google.com/+JoshuaMakinen\",\"https://twitter.com/JoshuaMakinen\",\"http://www.linkedin.com/profile/view?id=289942967&trk=nav_responsive_tab_profile\",\"https://github.com/makinj\"]}\n",
      "\n",
      "def draw_sprite(image, coor, color=0, radius=20, text=\"\"):\n",
      "    draw = ImageDraw.Draw(image)\n",
      "    x0=coor[0]-radius\n",
      "    x1=coor[0]+radius\n",
      "    y0=coor[1]-radius\n",
      "    y1=coor[1]+radius\n",
      "    if(color):\n",
      "        draw.ellipse((x0,y0,x1,y1),fill=color)\n",
      "    else:\n",
      "        draw.ellipse((x0,y0,x1,y1))\n",
      "    if(text):\n",
      "        draw.text(coor,text)\n",
      "    return image\n",
      "def draw_sprites(image, data):\n",
      "    for face in data:\n",
      "        x_main=face[0][0]+(face[0][2]-face[0][0])/2\n",
      "        y_main=face[0][1]+(face[0][3]-face[0][1])/2       \n",
      "        radius=max(face[0][2]-face[0][0],face[0][3]-face[0][1])/2\n",
      "        #image=draw_sprite(image,[x_main,y_main],radius=radius)\n",
      "        global db\n",
      "        count=0\n",
      "        global buttons\n",
      "        buttons=[]\n",
      "        for sprite in db[face[1]]:\n",
      "            text=\"?\"\n",
      "            color=(0,0,0)\n",
      "            if sprite.find(\"facebook\")!=-1:\n",
      "                text=\"f\"\n",
      "                color=(0,0,255)\n",
      "            elif sprite.find(\"twitter\")!=-1:\n",
      "                text=\"t\"\n",
      "                color=(0,172,238)\n",
      "            elif sprite.find(\"google\")!=-1:\n",
      "                text=\"+\"\n",
      "                color=(255,0,0)\n",
      "            elif sprite.find(\"github\")!=-1:\n",
      "                text=\"g\"\n",
      "                color=(128,128,128)\n",
      "            x_pos=x_main+(radius+20)*math.sin(math.pi*2.0*count/float(len(db[face[1]])))\n",
      "            y_pos=y_main+(radius+20)*math.cos(math.pi*2.0*count/float(len(db[face[1]])))\n",
      "            image=draw_sprite(image, [x_pos, y_pos], color=color, text=text)\n",
      "            buttons.append([[x_pos, y_pos],sprite])\n",
      "            count+=1\n",
      "            \n",
      "    return  image\n",
      "\n",
      "\n",
      "\n",
      "\n",
      "def detect(img, cascade):\n",
      "    rects = cascade.detectMultiScale(img, scaleFactor=1.1, minNeighbors=3, minSize=(50, 50), flags = cv2.CASCADE_SCALE_IMAGE)\n",
      "    if len(rects) == 0:\n",
      "        return []\n",
      "    rects[:,2:] += rects[:,:2]\n",
      "    return rects\n",
      "\n",
      "def quit_(root):\n",
      "    cam.release()\n",
      "    root.destroy()\n",
      "\n",
      "def update_fps(fps_label):\n",
      "    frame_times = fps_label._frame_times\n",
      "    frame_times.rotate()\n",
      "    frame_times[0] = time.time()\n",
      "    sum_of_deltas = frame_times[0] - frame_times[-1]\n",
      "    count_of_deltas = len(frame_times) - 1\n",
      "    try:\n",
      "        fps = int(float(count_of_deltas) / sum_of_deltas)\n",
      "    except ZeroDivisionError:\n",
      "        fps = 0\n",
      "    fps_label.configure(text='FPS: {}'.format(fps))\n",
      "\n",
      "\n",
      "def update_all(root, canvas, cam, fps_label):\n",
      "    #update_image(canvas, cam)\n",
      "    \n",
      "    ret, img = cam.read()\n",
      "    cv2.flip(img,1)\n",
      "    gray = cv2.cvtColor(img, cv2.COLOR_BGR2GRAY)\n",
      "    gray = cv2.equalizeHist(gray)\n",
      "    rects = detect(gray, cascade)\n",
      "    \n",
      "    \n",
      "    vis = img.copy()\n",
      "    vis = vis[...,::-1]#converts BGR to RGB\n",
      "    a = Image.fromarray(vis)\n",
      "    \n",
      "    faces=[]\n",
      "    for x1, y1, x2, y2 in rects:\n",
      "        roi = gray[y1:y2, x1:x2]\n",
      "        temp = roi.copy()\n",
      "        resized = cv2.resize(temp, (100,100))\n",
      "        cv2.imwrite(\"broken.jpg\",temp)\n",
      "        global model\n",
      "        [p_label, p_confidence] = model.predict(resized)\n",
      "        print \"(%d,%d)\" % (p_label,p_confidence)\n",
      "        if(p_confidence>1000):\n",
      "            #print p_label\n",
      "            faces.append([[x1,y1,x2,y2],p_label])\n",
      "        #print p_confidence\n",
      "        #print x1, y1, x2, y2\n",
      "    draw_sprites(a,faces)\n",
      "        \n",
      "    b = ImageTk.PhotoImage(image=a)\n",
      "    #canvas.delete(tk.ALL)\n",
      "    #canvas.delete('all')\n",
      "    global frame \n",
      "    frame = canvas.create_image(0,0,image=b,anchor=tk.NW) \n",
      "    root.update()\n",
      "    time.sleep(.0001)\n",
      "    update_fps(fps_label)\n",
      "    root.after(0, func=lambda: update_all(root, canvas, cam, fps_label))\n",
      "    \n",
      "def click(event):\n",
      "    global buttons\n",
      "    for button in buttons:\n",
      "        if event.x>button[0][0]-20 and event.x<button[0][0]+20 and event.y>button[0][1]-20 and event.y<button[0][1]+20:\n",
      "            webbrowser.open(button[1],new=2)\n",
      "            \n",
      "if __name__ == '__main__':\n",
      "    import sys, getopt\n",
      "    global model\n",
      "    model = train_model()\n",
      "    cascade_fn='haarcascades/haarcascade_frontalface_alt.xml'\n",
      "\n",
      "    cascade = cv2.CascadeClassifier(cascade_fn)\n",
      "\n",
      "    cam = cv2.VideoCapture(0)\n",
      "    cam.set(3,640)\n",
      "    cam.set(4,480)\n",
      "    \n",
      "    \n",
      "    root = tk.Tk() \n",
      "    \n",
      "    \n",
      "    videoframe = tk.LabelFrame(root,text='Captured video')\n",
      "    videoframe.grid(column=0,row=0,columnspan=1,rowspan=1,padx=5, pady=5, ipadx=5, ipady=5)\n",
      "    canvas = tk.Canvas(videoframe, width=640,height=480)\n",
      "    canvas.grid(column=0,row=0)\n",
      "    fps_label = tk.Label(master=videoframe)# label for fps\n",
      "    fps_label._frame_times = deque([0]*5)  # arbitrary 5 frame average FPS\n",
      "    fps_label.grid(column=0,row=1)\n",
      "    quit_button = tk.Button(master=videoframe, text='Quit',command=lambda: quit_(root))\n",
      "    quit_button.grid(column=0,row=2)\n",
      "    # setup the update callback\n",
      "    canvas.bind(\"<Button-1>\", click)\n",
      "    root.after(0, func=lambda: update_all(root, canvas, cam, fps_label))\n",
      "    root.mainloop()\n",
      "    del cam\n"
     ],
     "language": "python",
     "metadata": {},
     "outputs": [
      {
       "output_type": "stream",
       "stream": "stdout",
       "text": [
        "(2,2156)\n",
        "(2,1231)"
       ]
      },
      {
       "output_type": "stream",
       "stream": "stdout",
       "text": [
        "\n",
        "(1,2033)"
       ]
      },
      {
       "output_type": "stream",
       "stream": "stdout",
       "text": [
        "\n",
        "(1,2164)"
       ]
      },
      {
       "output_type": "stream",
       "stream": "stdout",
       "text": [
        "\n",
        "(1,2162)"
       ]
      },
      {
       "output_type": "stream",
       "stream": "stdout",
       "text": [
        "\n",
        "(1,2157)"
       ]
      },
      {
       "output_type": "stream",
       "stream": "stdout",
       "text": [
        "\n",
        "(1,2279)"
       ]
      },
      {
       "output_type": "stream",
       "stream": "stdout",
       "text": [
        "\n",
        "(1,2313)"
       ]
      },
      {
       "output_type": "stream",
       "stream": "stdout",
       "text": [
        "\n",
        "(1,2267)"
       ]
      },
      {
       "output_type": "stream",
       "stream": "stdout",
       "text": [
        "\n",
        "(1,2217)"
       ]
      },
      {
       "output_type": "stream",
       "stream": "stdout",
       "text": [
        "\n",
        "(1,2233)"
       ]
      },
      {
       "output_type": "stream",
       "stream": "stdout",
       "text": [
        "\n",
        "(2,2106)"
       ]
      },
      {
       "output_type": "stream",
       "stream": "stdout",
       "text": [
        "\n",
        "(2,2147)"
       ]
      },
      {
       "output_type": "stream",
       "stream": "stdout",
       "text": [
        "\n",
        "(2,1344)\n",
        "(2,2181)"
       ]
      },
      {
       "output_type": "stream",
       "stream": "stdout",
       "text": [
        "\n",
        "(2,1587)\n",
        "(2,2194)"
       ]
      },
      {
       "output_type": "stream",
       "stream": "stdout",
       "text": [
        "\n",
        "(2,2133)"
       ]
      },
      {
       "output_type": "stream",
       "stream": "stdout",
       "text": [
        "\n",
        "(2,2031)"
       ]
      },
      {
       "output_type": "stream",
       "stream": "stdout",
       "text": [
        "\n",
        "(2,2054)"
       ]
      },
      {
       "output_type": "stream",
       "stream": "stdout",
       "text": [
        "\n",
        "(2,2133)"
       ]
      },
      {
       "output_type": "stream",
       "stream": "stdout",
       "text": [
        "\n",
        "(2,2177)"
       ]
      },
      {
       "output_type": "stream",
       "stream": "stdout",
       "text": [
        "\n",
        "(2,2184)"
       ]
      },
      {
       "output_type": "stream",
       "stream": "stdout",
       "text": [
        "\n",
        "(2,2168)"
       ]
      },
      {
       "output_type": "stream",
       "stream": "stdout",
       "text": [
        "\n",
        "(2,2219)"
       ]
      },
      {
       "output_type": "stream",
       "stream": "stdout",
       "text": [
        "\n",
        "(2,2098)\n",
        "(2,2233)"
       ]
      },
      {
       "output_type": "stream",
       "stream": "stdout",
       "text": [
        "\n",
        "(2,2222)\n",
        "(1,2230)"
       ]
      },
      {
       "output_type": "stream",
       "stream": "stdout",
       "text": [
        "\n",
        "(2,2212)"
       ]
      },
      {
       "output_type": "stream",
       "stream": "stdout",
       "text": [
        "\n",
        "(2,2143)"
       ]
      },
      {
       "output_type": "stream",
       "stream": "stdout",
       "text": [
        "\n",
        "(2,2190)"
       ]
      },
      {
       "output_type": "stream",
       "stream": "stdout",
       "text": [
        "\n",
        "(2,2358)"
       ]
      },
      {
       "output_type": "stream",
       "stream": "stdout",
       "text": [
        "\n",
        "(1,1880)\n",
        "(2,2296)"
       ]
      },
      {
       "output_type": "stream",
       "stream": "stdout",
       "text": [
        "\n",
        "(2,2266)"
       ]
      },
      {
       "output_type": "stream",
       "stream": "stdout",
       "text": [
        "\n",
        "(2,2287)"
       ]
      },
      {
       "output_type": "stream",
       "stream": "stdout",
       "text": [
        "\n",
        "(2,2235)"
       ]
      },
      {
       "output_type": "stream",
       "stream": "stdout",
       "text": [
        "\n",
        "(2,2230)"
       ]
      },
      {
       "output_type": "stream",
       "stream": "stdout",
       "text": [
        "\n",
        "(2,2252)"
       ]
      },
      {
       "output_type": "stream",
       "stream": "stdout",
       "text": [
        "\n",
        "(2,2259)"
       ]
      },
      {
       "output_type": "stream",
       "stream": "stdout",
       "text": [
        "\n",
        "(2,2224)"
       ]
      },
      {
       "output_type": "stream",
       "stream": "stdout",
       "text": [
        "\n",
        "(2,2268)"
       ]
      },
      {
       "output_type": "stream",
       "stream": "stdout",
       "text": [
        "\n",
        "(2,2332)"
       ]
      },
      {
       "output_type": "stream",
       "stream": "stdout",
       "text": [
        "\n",
        "(2,2275)"
       ]
      },
      {
       "output_type": "stream",
       "stream": "stdout",
       "text": [
        "\n",
        "(2,2272)"
       ]
      },
      {
       "output_type": "stream",
       "stream": "stdout",
       "text": [
        "\n",
        "(2,2331)"
       ]
      },
      {
       "output_type": "stream",
       "stream": "stdout",
       "text": [
        "\n",
        "(1,1439)"
       ]
      },
      {
       "output_type": "stream",
       "stream": "stdout",
       "text": [
        "\n",
        "(1,782)"
       ]
      },
      {
       "output_type": "stream",
       "stream": "stdout",
       "text": [
        "\n",
        "(2,1716)"
       ]
      },
      {
       "output_type": "stream",
       "stream": "stdout",
       "text": [
        "\n",
        "(2,2061)"
       ]
      },
      {
       "output_type": "stream",
       "stream": "stdout",
       "text": [
        "\n",
        "(2,1981)"
       ]
      },
      {
       "output_type": "stream",
       "stream": "stdout",
       "text": [
        "\n",
        "(2,1988)"
       ]
      },
      {
       "output_type": "stream",
       "stream": "stdout",
       "text": [
        "\n",
        "(2,2057)"
       ]
      },
      {
       "output_type": "stream",
       "stream": "stdout",
       "text": [
        "\n",
        "(2,2132)"
       ]
      },
      {
       "output_type": "stream",
       "stream": "stdout",
       "text": [
        "\n",
        "(1,2171)"
       ]
      },
      {
       "output_type": "stream",
       "stream": "stdout",
       "text": [
        "\n",
        "(2,2138)"
       ]
      },
      {
       "output_type": "stream",
       "stream": "stdout",
       "text": [
        "\n",
        "(2,2173)"
       ]
      },
      {
       "output_type": "stream",
       "stream": "stdout",
       "text": [
        "\n",
        "(2,2218)"
       ]
      },
      {
       "output_type": "stream",
       "stream": "stdout",
       "text": [
        "\n",
        "(2,2205)"
       ]
      },
      {
       "output_type": "stream",
       "stream": "stdout",
       "text": [
        "\n",
        "(2,2199)"
       ]
      },
      {
       "output_type": "stream",
       "stream": "stdout",
       "text": [
        "\n",
        "(2,2076)"
       ]
      },
      {
       "output_type": "stream",
       "stream": "stdout",
       "text": [
        "\n",
        "(2,2027)"
       ]
      },
      {
       "output_type": "stream",
       "stream": "stdout",
       "text": [
        "\n",
        "(2,1999)"
       ]
      },
      {
       "output_type": "stream",
       "stream": "stdout",
       "text": [
        "\n",
        "(2,1993)"
       ]
      },
      {
       "output_type": "stream",
       "stream": "stdout",
       "text": [
        "\n",
        "(1,1903)\n",
        "(2,2153)"
       ]
      },
      {
       "output_type": "stream",
       "stream": "stdout",
       "text": [
        "\n",
        "(2,2081)"
       ]
      },
      {
       "output_type": "stream",
       "stream": "stdout",
       "text": [
        "\n",
        "(2,2040)"
       ]
      },
      {
       "output_type": "stream",
       "stream": "stdout",
       "text": [
        "\n",
        "(1,1643)\n",
        "(2,2073)"
       ]
      },
      {
       "output_type": "stream",
       "stream": "stdout",
       "text": [
        "\n",
        "(1,1414)\n",
        "(2,2158)"
       ]
      },
      {
       "output_type": "stream",
       "stream": "stdout",
       "text": [
        "\n",
        "(1,1387)"
       ]
      },
      {
       "output_type": "stream",
       "stream": "stdout",
       "text": [
        "\n",
        "(1,1286)"
       ]
      },
      {
       "output_type": "stream",
       "stream": "stdout",
       "text": [
        "\n",
        "(1,1369)"
       ]
      },
      {
       "output_type": "stream",
       "stream": "stdout",
       "text": [
        "\n",
        "(1,1430)"
       ]
      },
      {
       "output_type": "stream",
       "stream": "stdout",
       "text": [
        "\n",
        "(2,1962)"
       ]
      },
      {
       "output_type": "stream",
       "stream": "stdout",
       "text": [
        "\n",
        "(2,1882)"
       ]
      },
      {
       "output_type": "stream",
       "stream": "stdout",
       "text": [
        "\n",
        "(2,1917)"
       ]
      },
      {
       "output_type": "stream",
       "stream": "stdout",
       "text": [
        "\n",
        "(2,2046)"
       ]
      },
      {
       "output_type": "stream",
       "stream": "stdout",
       "text": [
        "\n",
        "(2,1997)"
       ]
      },
      {
       "output_type": "stream",
       "stream": "stdout",
       "text": [
        "\n",
        "(2,1983)"
       ]
      },
      {
       "output_type": "stream",
       "stream": "stdout",
       "text": [
        "\n",
        "(2,2050)"
       ]
      },
      {
       "output_type": "stream",
       "stream": "stdout",
       "text": [
        "\n",
        "(2,2101)"
       ]
      },
      {
       "output_type": "stream",
       "stream": "stdout",
       "text": [
        "\n",
        "(2,2133)"
       ]
      },
      {
       "output_type": "stream",
       "stream": "stdout",
       "text": [
        "\n",
        "(2,2108)"
       ]
      },
      {
       "output_type": "stream",
       "stream": "stdout",
       "text": [
        "\n",
        "(2,2158)"
       ]
      },
      {
       "output_type": "stream",
       "stream": "stdout",
       "text": [
        "\n",
        "(2,2127)"
       ]
      },
      {
       "output_type": "stream",
       "stream": "stdout",
       "text": [
        "\n",
        "(2,2155)"
       ]
      },
      {
       "output_type": "stream",
       "stream": "stdout",
       "text": [
        "\n",
        "(2,2131)"
       ]
      },
      {
       "output_type": "stream",
       "stream": "stdout",
       "text": [
        "\n",
        "(2,2117)"
       ]
      },
      {
       "output_type": "stream",
       "stream": "stdout",
       "text": [
        "\n",
        "(2,2144)"
       ]
      },
      {
       "output_type": "stream",
       "stream": "stdout",
       "text": [
        "\n",
        "(2,2158)"
       ]
      },
      {
       "output_type": "stream",
       "stream": "stdout",
       "text": [
        "\n",
        "(2,2134)"
       ]
      },
      {
       "output_type": "stream",
       "stream": "stdout",
       "text": [
        "\n",
        "(1,2053)\n",
        "(2,2109)"
       ]
      },
      {
       "output_type": "stream",
       "stream": "stdout",
       "text": [
        "\n",
        "(2,2189)"
       ]
      },
      {
       "output_type": "stream",
       "stream": "stdout",
       "text": [
        "\n",
        "(1,1605)"
       ]
      },
      {
       "output_type": "stream",
       "stream": "stdout",
       "text": [
        "\n",
        "(1,1762)"
       ]
      },
      {
       "output_type": "stream",
       "stream": "stdout",
       "text": [
        "\n",
        "(1,1947)"
       ]
      },
      {
       "output_type": "stream",
       "stream": "stdout",
       "text": [
        "\n",
        "(1,1801)"
       ]
      },
      {
       "output_type": "stream",
       "stream": "stdout",
       "text": [
        "\n",
        "(1,1915)"
       ]
      },
      {
       "output_type": "stream",
       "stream": "stdout",
       "text": [
        "\n",
        "(1,1582)"
       ]
      },
      {
       "output_type": "stream",
       "stream": "stdout",
       "text": [
        "\n",
        "(2,2056)"
       ]
      },
      {
       "output_type": "stream",
       "stream": "stdout",
       "text": [
        "\n",
        "(2,1692)"
       ]
      },
      {
       "output_type": "stream",
       "stream": "stdout",
       "text": [
        "\n",
        "(1,1066)"
       ]
      },
      {
       "output_type": "stream",
       "stream": "stdout",
       "text": [
        "\n",
        "(1,981)"
       ]
      },
      {
       "output_type": "stream",
       "stream": "stdout",
       "text": [
        "\n",
        "(1,884)"
       ]
      },
      {
       "output_type": "stream",
       "stream": "stdout",
       "text": [
        "\n",
        "(1,923)"
       ]
      },
      {
       "output_type": "stream",
       "stream": "stdout",
       "text": [
        "\n",
        "(1,1094)"
       ]
      },
      {
       "output_type": "stream",
       "stream": "stdout",
       "text": [
        "\n",
        "(1,1696)"
       ]
      },
      {
       "output_type": "stream",
       "stream": "stdout",
       "text": [
        "\n",
        "(1,1879)"
       ]
      },
      {
       "output_type": "stream",
       "stream": "stdout",
       "text": [
        "\n",
        "(1,1826)"
       ]
      },
      {
       "output_type": "stream",
       "stream": "stdout",
       "text": [
        "\n",
        "(1,1076)\n",
        "(1,1694)"
       ]
      },
      {
       "output_type": "stream",
       "stream": "stdout",
       "text": [
        "\n",
        "(1,1647)"
       ]
      },
      {
       "output_type": "stream",
       "stream": "stdout",
       "text": [
        "\n",
        "(1,1665)"
       ]
      },
      {
       "output_type": "stream",
       "stream": "stdout",
       "text": [
        "\n",
        "(1,1648)"
       ]
      },
      {
       "output_type": "stream",
       "stream": "stdout",
       "text": [
        "\n",
        "(1,1593)"
       ]
      },
      {
       "output_type": "stream",
       "stream": "stdout",
       "text": [
        "\n",
        "(1,1668)"
       ]
      },
      {
       "output_type": "stream",
       "stream": "stdout",
       "text": [
        "\n",
        "(1,1411)\n",
        "(1,1725)"
       ]
      },
      {
       "output_type": "stream",
       "stream": "stdout",
       "text": [
        "\n",
        "(1,1584)"
       ]
      },
      {
       "output_type": "stream",
       "stream": "stdout",
       "text": [
        "\n",
        "(1,1593)"
       ]
      },
      {
       "output_type": "stream",
       "stream": "stdout",
       "text": [
        "\n",
        "(1,1555)"
       ]
      },
      {
       "output_type": "stream",
       "stream": "stdout",
       "text": [
        "\n",
        "(1,1640)"
       ]
      },
      {
       "output_type": "stream",
       "stream": "stdout",
       "text": [
        "\n",
        "(1,1686)"
       ]
      },
      {
       "output_type": "stream",
       "stream": "stdout",
       "text": [
        "\n",
        "(1,1660)"
       ]
      },
      {
       "output_type": "stream",
       "stream": "stdout",
       "text": [
        "\n",
        "(1,1712)"
       ]
      },
      {
       "output_type": "stream",
       "stream": "stdout",
       "text": [
        "\n",
        "(1,1615)"
       ]
      },
      {
       "output_type": "stream",
       "stream": "stdout",
       "text": [
        "\n",
        "(1,1621)"
       ]
      },
      {
       "output_type": "stream",
       "stream": "stdout",
       "text": [
        "\n",
        "(1,1461)"
       ]
      },
      {
       "output_type": "stream",
       "stream": "stdout",
       "text": [
        "\n",
        "(1,1462)"
       ]
      },
      {
       "output_type": "stream",
       "stream": "stdout",
       "text": [
        "\n",
        "(1,1367)"
       ]
      }
     ],
     "prompt_number": "*"
    },
    {
     "cell_type": "code",
     "collapsed": false,
     "input": [],
     "language": "python",
     "metadata": {},
     "outputs": [],
     "prompt_number": 15
    },
    {
     "cell_type": "code",
     "collapsed": false,
     "input": [],
     "language": "python",
     "metadata": {},
     "outputs": [],
     "prompt_number": 7
    }
   ],
   "metadata": {}
  }
 ]
}
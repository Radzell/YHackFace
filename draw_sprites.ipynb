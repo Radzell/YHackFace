{
 "metadata": {
  "name": ""
 },
 "nbformat": 3,
 "nbformat_minor": 0,
 "worksheets": [
  {
   "cells": [
    {
     "cell_type": "code",
     "collapsed": false,
     "input": [
      "import Image\n",
      "import ImageDraw\n",
      "def draw_sprite(image, coor, color=0):\n",
      "    draw = ImageDraw.Draw(image)\n",
      "    x0=coor[0]-10\n",
      "    x1=coor[0]+10\n",
      "    y0=coor[1]-10\n",
      "    y1=coor[1]+10\n",
      "    if(color):\n",
      "        draw.ellipse((x0,y0,x1,y1),fill=color)\n",
      "    else:\n",
      "        draw.ellipse((x0,y0,x1,y1))\n",
      "    return image\n",
      "def draw_face(image, coor,text=\"?\"):\n",
      "    print \"not done yet\"\n",
      "    color()\n",
      "    if(text==\"?\"):\n",
      "        draw_sprite\n",
      "def draw_sprites(image, data):\n",
      "    for face in data:\n",
      "        image=draw_sprite(image, face[0])\n",
      "        \n",
      "\n",
      "        '''\n",
      "        for feature in face[1]:\n",
      "\n",
      "            image=draw_sprite(image, )\n",
      "        '''\n",
      "            \n",
      "    return  image\n",
      "\n",
      "if __name__ == \"__main__\":\n",
      "    i\n",
      "    draw_sprites(im, [[[162,66],[\"t\", \"f\"]],[[34,43],[\"t\", \"l\",\"g\"]],[[215,34],[\"g\",\"f\",\"t\"]]])\n"
     ],
     "language": "python",
     "metadata": {},
     "outputs": [],
     "prompt_number": 1
    },
    {
     "cell_type": "code",
     "collapsed": false,
     "input": [],
     "language": "python",
     "metadata": {},
     "outputs": []
    }
   ],
   "metadata": {}
  }
 ]
}